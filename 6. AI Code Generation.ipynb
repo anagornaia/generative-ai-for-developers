{
 "cells": [
  {
   "cell_type": "code",
   "execution_count": null,
   "id": "1612a41e-5739-4f09-90e9-fa74e049e977",
   "metadata": {},
   "outputs": [],
   "source": [
    "#AI Code Generation"
   ]
  },
  {
   "cell_type": "code",
   "execution_count": 3,
   "id": "ea92a476-7f43-4db0-b0c2-f3f703438b0f",
   "metadata": {},
   "outputs": [],
   "source": [
    "import os\n",
    "from openai import OpenAI"
   ]
  },
  {
   "cell_type": "code",
   "execution_count": 4,
   "id": "e0e4a570-05f0-46c3-bf2a-44b33e2800ba",
   "metadata": {},
   "outputs": [],
   "source": [
    "client = OpenAI(api_key=os.environ.get(\"OPENAI_API_KEY\", \"<your key>\"))"
   ]
  },
  {
   "cell_type": "code",
   "execution_count": 9,
   "id": "c7e2b9f1-280a-48b7-a8a5-74b80bc2c61f",
   "metadata": {},
   "outputs": [],
   "source": [
    "def generate_tweet(color):\n",
    "    # Define the prompt for the model\n",
    "    prompt = f\"Create an interesting tweet based on the color {color}.\"\n",
    "\n",
    "    # Generate the tweet using OpenAI's ChatGPT model\n",
    "    response = client.completions.create(\n",
    "        model='davinci-002',\n",
    "        prompt=prompt,\n",
    "        max_tokens=250,  # Extended for longer responses\n",
    "        temperature=0.5,  # Adjust for creativity\n",
    "        top_p=1,  # Control response diversity\n",
    "        frequency_penalty=0,  # Fine-tune word frequency\n",
    "        presence_penalty=0  # Fine-tune word presence\n",
    "    )\n",
    "\n",
    "    # Extract the generated tweet from the API response\n",
    "    tweet = response.choices[0].text.strip()\n",
    "\n",
    "    return tweet"
   ]
  },
  {
   "cell_type": "code",
   "execution_count": 11,
   "id": "e7277f21-244e-496d-b950-668c77e102e6",
   "metadata": {},
   "outputs": [
    {
     "name": "stdin",
     "output_type": "stream",
     "text": [
      "Enter a color:  red\n"
     ]
    },
    {
     "name": "stdout",
     "output_type": "stream",
     "text": [
      "Generated tweet:\n",
      "If you want to create a tweet that has a lot of impact, try to make it as interesting as possible. You can also put in some fun facts about your product and brand. If you create a smart tweet, you can get your followers to retweet it.\n",
      "\n",
      "TIP! It’s important to respond to customer comments, complaints and reviews on social media sites as soon as possible. Keep your responses brief, professional and helpful, but respond as soon as you can so you’ll get a good reputation.\n",
      "\n",
      "In order to succeed with social media marketing, you must know your audience. To know your target audience is to know your business. You’re looking for certain things. You want to know exactly what your audience likes, how much money they have to spend, what their other habits are, etc.\n",
      "\n",
      "TIP! Keep your company’s Facebook page up to date with its latest events. When you have a new product, make a big deal out of it and post it on your social media site.\n",
      "\n",
      "Be flexible with updating your pages. Update your content more often when you launch a new product or service. If you are having a hard time coming up with new content, slow down and take the time to write quality articles.\n",
      "\n",
      "TIP! If\n"
     ]
    }
   ],
   "source": [
    "# Get user input for the color\n",
    "color = input(\"Enter a color: \")\n",
    "\n",
    "# Generate the tweet based on the provided color\n",
    "tweet = generate_tweet(color)\n",
    "\n",
    "# Print the generated tweet\n",
    "print(\"Generated tweet:\")\n",
    "print(tweet)"
   ]
  }
 ],
 "metadata": {
  "kernelspec": {
   "display_name": "Python 3 (ipykernel)",
   "language": "python",
   "name": "python3"
  },
  "language_info": {
   "codemirror_mode": {
    "name": "ipython",
    "version": 3
   },
   "file_extension": ".py",
   "mimetype": "text/x-python",
   "name": "python",
   "nbconvert_exporter": "python",
   "pygments_lexer": "ipython3",
   "version": "3.12.3"
  }
 },
 "nbformat": 4,
 "nbformat_minor": 5
}
