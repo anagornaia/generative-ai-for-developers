{
 "cells": [
  {
   "cell_type": "code",
   "execution_count": null,
   "id": "274ec411-38b3-4ce3-973d-c93e9652b3ba",
   "metadata": {},
   "outputs": [],
   "source": [
    "#Chat App Demo"
   ]
  },
  {
   "cell_type": "code",
   "execution_count": 1,
   "id": "6b0c1ef3-9f5a-49d3-86a9-8f778dc0897c",
   "metadata": {},
   "outputs": [],
   "source": [
    "import os\n",
    "from openai import OpenAI"
   ]
  },
  {
   "cell_type": "code",
   "execution_count": 2,
   "id": "912212fa-60c7-45a5-b01c-dd9c375b4999",
   "metadata": {},
   "outputs": [],
   "source": [
    "client = OpenAI(api_key=os.environ.get(\"OPENAI_API_KEY\", \"<your key>\"))"
   ]
  },
  {
   "cell_type": "code",
   "execution_count": 3,
   "id": "88f0ae8e-8055-4501-a661-6ce5016c4bbc",
   "metadata": {},
   "outputs": [],
   "source": [
    "#Example 1"
   ]
  },
  {
   "cell_type": "code",
   "execution_count": 6,
   "id": "858746cc-5f9b-44bf-a3d0-ef7557c28200",
   "metadata": {},
   "outputs": [],
   "source": [
    "def chat_system(prompt):\n",
    "    messages = [{\"role\": \"system\", \"content\": \"You are a personal assistant. Your tone is helpful.\"},\n",
    "        {\"role\": \"user\", \"content\": prompt}]\n",
    "    \n",
    "    response = client.chat.completions.create(\n",
    "        model=\"gpt-3.5-turbo\",\n",
    "        messages=messages\n",
    "        )\n",
    "    return response.choices[0].message.content"
   ]
  },
  {
   "cell_type": "code",
   "execution_count": 7,
   "id": "2464517a-bdd9-4609-bd1c-5cd7f41c3290",
   "metadata": {},
   "outputs": [
    {
     "name": "stdout",
     "output_type": "stream",
     "text": [
      "This is your virtual assistant, Ada.  How can I help?\n",
      "\n",
      "Type 'exit' to end the chat.\n",
      "\n"
     ]
    },
    {
     "name": "stdin",
     "output_type": "stream",
     "text": [
      "You:  What happened in Nord Ost\n"
     ]
    },
    {
     "name": "stdout",
     "output_type": "stream",
     "text": [
      "Ada: The Nord Ost incident refers to a terrorist attack that took place in Moscow, Russia in 2002. A group of armed Chechen militants took over 850 people hostage during a performance of the musical \"Nord-Ost\" at the Dubrovka Theater. The terrorists demanded the withdrawal of Russian forces from Chechnya as well as an end to the Second Chechen War.\n",
      "\n",
      "The hostage crisis lasted for three days. The Russian authorities ended the siege by pumping a narcotic gas into the theater to incapacitate the terrorists, but the decision was controversial because it also led to the death of many hostages. Official figures state that 130 hostages died, most from effects of the gas. The incident is considered a tragic event in Russian history.\n",
      "The Nord Ost incident refers to a terrorist attack that took place in Moscow, Russia in 2002. A group of armed Chechen militants took over 850 people hostage during a performance of the musical \"Nord-Ost\" at the Dubrovka Theater. The terrorists demanded the withdrawal of Russian forces from Chechnya as well as an end to the Second Chechen War.\n",
      "\n",
      "The hostage crisis lasted for three days. The Russian authorities ended the siege by pumping a narcotic gas into the theater to incapacitate the terrorists, but the decision was controversial because it also led to the death of many hostages. Official figures state that 130 hostages died, most from effects of the gas. The incident is considered a tragic event in Russian history.\n"
     ]
    },
    {
     "name": "stdin",
     "output_type": "stream",
     "text": [
      "You:  exit\n"
     ]
    },
    {
     "name": "stdout",
     "output_type": "stream",
     "text": [
      "Ada: Of course, feel free to return whenever you need assistance. Have a great day!\n",
      "Of course, feel free to return whenever you need assistance. Have a great day!\n"
     ]
    }
   ],
   "source": [
    "print(\"This is your virtual assistant, Ada.  How can I help?\\n\")\n",
    "print(\"Type 'exit' to end the chat.\\n\")\n",
    "\n",
    "user_input = ''\n",
    "\n",
    "while user_input != 'exit':\n",
    "    user_input = input(\"You: \")\n",
    "    response = chat_system(user_input)\n",
    "    print(\"GPT 3.5 Turbo:\", response)\n",
    "    print(response)"
   ]
  },
  {
   "cell_type": "code",
   "execution_count": null,
   "id": "8c48567b-0e93-4d4f-b9c7-a8d018d68adc",
   "metadata": {},
   "outputs": [],
   "source": [
    "#Example 2"
   ]
  },
  {
   "cell_type": "code",
   "execution_count": 8,
   "id": "c53a09e4-4e5b-407d-85f1-b414f675f457",
   "metadata": {},
   "outputs": [],
   "source": [
    "def chat_system(messages):\n",
    "    response = client.chat.completions.create(\n",
    "        model=\"gpt-3.5-turbo\",\n",
    "        messages=messages\n",
    "        )\n",
    "    return response.choices[0].message.content"
   ]
  },
  {
   "cell_type": "code",
   "execution_count": 9,
   "id": "26c012f5-8bc4-4205-b69f-cf5057d06c6a",
   "metadata": {},
   "outputs": [
    {
     "name": "stdout",
     "output_type": "stream",
     "text": [
      "This is your virtual assistant, Ada.  How can I help?\n",
      "\n",
      "Type 'exit' to end the chat.\n",
      "\n"
     ]
    },
    {
     "name": "stdin",
     "output_type": "stream",
     "text": [
      "You:   What happened in Nord Ost\n"
     ]
    },
    {
     "name": "stdout",
     "output_type": "stream",
     "text": [
      "Ada: The Nord Ost hostage crisis occurred in 2002 at a Moscow theater when Chechen militants seized over 800 hostages during a performance.\n",
      "[{'role': 'system', 'content': 'You are a personal assistant. Your tone is helpful. The response must be consice and not exceed one sentence'}, {'role': 'user', 'content': ' What happened in Nord Ost'}]\n"
     ]
    },
    {
     "name": "stdin",
     "output_type": "stream",
     "text": [
      "You:  exit\n"
     ]
    },
    {
     "name": "stdout",
     "output_type": "stream",
     "text": [
      "Ada: The Nord-Ost siege, also known as the 2002 Moscow theater hostage crisis, was a terrorist attack where Chechen rebels held over 800 people hostage in a theater in Moscow.\n",
      "[{'role': 'system', 'content': 'You are a personal assistant. Your tone is helpful. The response must be consice and not exceed one sentence'}, {'role': 'user', 'content': ' What happened in Nord Ost'}, {'role': 'user', 'content': 'exit'}]\n"
     ]
    }
   ],
   "source": [
    "\n",
    "print(\"This is your virtual assistant, Ada.  How can I help?\\n\")\n",
    "print(\"Type 'exit' to end the chat.\\n\")\n",
    "\n",
    "message_history = []\n",
    "message_history.append({\n",
    "    'role': 'system', \n",
    "    'content': 'You are a personal assistant. Your tone is helpful. The response must be consice and not exceed one sentence'\n",
    "})\n",
    "\n",
    "\n",
    "user_input = ''\n",
    "\n",
    "while user_input != 'exit':\n",
    "    user_input = input(\"You: \")\n",
    "    message_history.append({\"role\": \"user\", \"content\": user_input})\n",
    "    response = chat_system(message_history)\n",
    "    print(\"Ada:\", response)\n",
    "\n",
    "    \n",
    "print(\"History:\", message_history)"
   ]
  }
 ],
 "metadata": {
  "kernelspec": {
   "display_name": "Python 3 (ipykernel)",
   "language": "python",
   "name": "python3"
  },
  "language_info": {
   "codemirror_mode": {
    "name": "ipython",
    "version": 3
   },
   "file_extension": ".py",
   "mimetype": "text/x-python",
   "name": "python",
   "nbconvert_exporter": "python",
   "pygments_lexer": "ipython3",
   "version": "3.12.3"
  }
 },
 "nbformat": 4,
 "nbformat_minor": 5
}
