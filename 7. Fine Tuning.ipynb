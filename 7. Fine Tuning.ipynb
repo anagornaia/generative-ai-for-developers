{
 "cells": [
  {
   "cell_type": "code",
   "execution_count": null,
   "id": "237690f2-f6fd-435f-9135-d0e89c2b0239",
   "metadata": {},
   "outputs": [],
   "source": [
    "#Fine Tuning\n",
    "#https://platform.openai.com/docs/guides/fine-tuning"
   ]
  },
  {
   "cell_type": "code",
   "execution_count": 3,
   "id": "9cfe21a9-3a9b-4fdc-8851-0933665a1533",
   "metadata": {},
   "outputs": [],
   "source": [
    "import os\n",
    "from openai import OpenAI\n",
    "import pandas as pd\n",
    "import json"
   ]
  },
  {
   "cell_type": "code",
   "execution_count": 4,
   "id": "25e6e90c-c7aa-41e9-b458-df66d9d9e05a",
   "metadata": {},
   "outputs": [],
   "source": [
    "client = OpenAI(api_key=os.environ.get(\"OPENAI_API_KEY\", \"<your key>\"))"
   ]
  },
  {
   "cell_type": "code",
   "execution_count": 16,
   "id": "bc9c9c32-70af-40f7-b16e-e0b9a74a82e7",
   "metadata": {},
   "outputs": [
    {
     "data": {
      "text/html": [
       "<div>\n",
       "<style scoped>\n",
       "    .dataframe tbody tr th:only-of-type {\n",
       "        vertical-align: middle;\n",
       "    }\n",
       "\n",
       "    .dataframe tbody tr th {\n",
       "        vertical-align: top;\n",
       "    }\n",
       "\n",
       "    .dataframe thead th {\n",
       "        text-align: right;\n",
       "    }\n",
       "</style>\n",
       "<table border=\"1\" class=\"dataframe\">\n",
       "  <thead>\n",
       "    <tr style=\"text-align: right;\">\n",
       "      <th></th>\n",
       "      <th>Prompt</th>\n",
       "      <th>Completion</th>\n",
       "    </tr>\n",
       "  </thead>\n",
       "  <tbody>\n",
       "    <tr>\n",
       "      <th>0</th>\n",
       "      <td>The sun is shining brightly, filling the day w...</td>\n",
       "      <td>positive</td>\n",
       "    </tr>\n",
       "    <tr>\n",
       "      <th>1</th>\n",
       "      <td>I am surrounded by loving and supportive frien...</td>\n",
       "      <td>positive</td>\n",
       "    </tr>\n",
       "    <tr>\n",
       "      <th>2</th>\n",
       "      <td>Each day brings new opportunities for growth a...</td>\n",
       "      <td>positive</td>\n",
       "    </tr>\n",
       "  </tbody>\n",
       "</table>\n",
       "</div>"
      ],
      "text/plain": [
       "                                              Prompt Completion\n",
       "0  The sun is shining brightly, filling the day w...   positive\n",
       "1  I am surrounded by loving and supportive frien...   positive\n",
       "2  Each day brings new opportunities for growth a...   positive"
      ]
     },
     "execution_count": 16,
     "metadata": {},
     "output_type": "execute_result"
    }
   ],
   "source": [
    "training_data = pd.read_csv(\"training_data.csv\")\n",
    "training_data.head(3)"
   ]
  },
  {
   "cell_type": "code",
   "execution_count": 8,
   "id": "41e31955-8a64-4449-9b98-9fb065edea74",
   "metadata": {},
   "outputs": [],
   "source": [
    "prompts = training_data[\"Prompt\"]"
   ]
  },
  {
   "cell_type": "code",
   "execution_count": 9,
   "id": "22e44c5b-7dcf-47fe-bb44-d87124919d41",
   "metadata": {},
   "outputs": [],
   "source": [
    "completions = training_data['Completion']"
   ]
  },
  {
   "cell_type": "code",
   "execution_count": 12,
   "id": "81f56fa8-8d4a-4780-8d3b-352f45734fc3",
   "metadata": {},
   "outputs": [],
   "source": [
    "#transporm to json format\n",
    "#Example:\n",
    "#[{'prompt': 'The sun is shining brightly, filling the day with warmth and joy. ->',  'completion': 'positive'},...]\n",
    "json_format = [{\"prompt\":prompt,\"completion\":completion} for prompt,completion in zip(prompts,completions)]"
   ]
  },
  {
   "cell_type": "code",
   "execution_count": 13,
   "id": "a8b13063-fd36-40ae-b0a4-0748ef9394fd",
   "metadata": {},
   "outputs": [
    {
     "data": {
      "text/plain": [
       "{'prompt': 'I am surrounded by loving and supportive friends who lift me up. ->',\n",
       " 'completion': 'positive'}"
      ]
     },
     "execution_count": 13,
     "metadata": {},
     "output_type": "execute_result"
    }
   ],
   "source": [
    "json_format[1]"
   ]
  },
  {
   "cell_type": "code",
   "execution_count": 14,
   "id": "61de86a9-8ed7-4a2f-9ae8-cf0859c68b76",
   "metadata": {},
   "outputs": [],
   "source": [
    "with open(\"training_data.json\", \"w\") as f:\n",
    "    for item in json_format:\n",
    "        f.write(json.dumps(item))\n",
    "        f.write('\\n')"
   ]
  },
  {
   "cell_type": "code",
   "execution_count": null,
   "id": "789b0c6a-129e-4aa5-bc03-4801980e7ad7",
   "metadata": {},
   "outputs": [],
   "source": [
    "#data prep\n",
    "#move to cmd\n",
    "> pip install --upgrade openai\n",
    "\n",
    "> set OPEN_API_KEY=<your key>\n",
    "\n",
    "# here yoy will be asked several questions, for the purpose of this lesson we need just file in JSONL format:\n",
    "# Based on the analysis we will perform the following actions:\n",
    "# - [Necessary] Your format `JSON` will be converted to `JSONL`\n",
    "# - [Recommended] Add a whitespace character to the beginning of the completion [Y/n]: n\n",
    "# - [Recommended] Would you like to split into training and validation set? [Y/n]: n\n",
    "# Your data will be written to a new JSONL file. Proceed [Y/n]: y\n",
    "> openai tools fine_tunes.prepare_data -f \"training_data.json\""
   ]
  },
  {
   "cell_type": "code",
   "execution_count": 18,
   "id": "606e749c-ef13-4856-b8a3-6f4a6b23bf28",
   "metadata": {},
   "outputs": [
    {
     "data": {
      "text/plain": [
       "FileObject(id='file-3eONCRf0WmuyrzhRrhX2sXgA', bytes=4122, created_at=1714220047, filename='training_data_prepared.jsonl', object='file', purpose='fine-tune', status='processed', status_details=None)"
      ]
     },
     "execution_count": 18,
     "metadata": {},
     "output_type": "execute_result"
    }
   ],
   "source": [
    "#Upload a training file - https://platform.openai.com/docs/guides/fine-tuning/upload-a-training-file\n",
    "#You an find file in Storage section and also manualy upload it there - https://platform.openai.com/storage\n",
    "client.files.create(\n",
    "  file=open(\"training_data_prepared.jsonl\", \"rb\"),\n",
    "  purpose=\"fine-tune\"\n",
    ")"
   ]
  },
  {
   "cell_type": "code",
   "execution_count": 23,
   "id": "84893e3e-f428-440b-9553-dff4062986d2",
   "metadata": {},
   "outputs": [
    {
     "data": {
      "text/plain": [
       "FineTuningJob(id='ftjob-0VAVEP2HH7q3YKWE1Rg4ot4x', created_at=1714220693, error=Error(code=None, message=None, param=None), fine_tuned_model=None, finished_at=None, hyperparameters=Hyperparameters(n_epochs='auto', batch_size='auto', learning_rate_multiplier='auto'), model='babbage-002', object='fine_tuning.job', organization_id='org-xF8zUKwOmUKJwbqibY7GugZu', result_files=[], seed=611352198, status='validating_files', trained_tokens=None, training_file='file-WPXe3jZperw2jy9JSYSDseBD', validation_file=None, integrations=[], user_provided_suffix=None, estimated_finish=None)"
      ]
     },
     "execution_count": 23,
     "metadata": {},
     "output_type": "execute_result"
    }
   ],
   "source": [
    "#Create a fine-tuned model - https://platform.openai.com/docs/guides/fine-tuning/create-a-fine-tuned-model\n",
    "#You can visualise job in Fine-tuning ection and also manualy create this job - https://platform.openai.com/finetune\n",
    "client.fine_tuning.jobs.create(\n",
    "  training_file=\"file-WPXe3jZperw2jy9JSYSDseBD\", #File ID\n",
    "  model=\"babbage-002\"\n",
    ")"
   ]
  },
  {
   "cell_type": "code",
   "execution_count": 24,
   "id": "4dda7cb4-ca8d-48e8-a905-0d45f980c0b3",
   "metadata": {},
   "outputs": [],
   "source": [
    "#The name can be fund in Fine-tunning section\n",
    "fine_tuned_model_name = \"ft:babbage-002:personal::9IbQzK54\""
   ]
  },
  {
   "cell_type": "code",
   "execution_count": 26,
   "id": "1f200e5d-4871-4f46-a24f-db7f0f8508d2",
   "metadata": {},
   "outputs": [
    {
     "name": "stdout",
     "output_type": "stream",
     "text": [
      "negative\n"
     ]
    }
   ],
   "source": [
    "response = client.completions.create(\n",
    "model=fine_tuned_model_name,\n",
    "prompt=\"Not too thrilled with the blog ->\",\n",
    "    max_tokens=1,\n",
    "    temperature=0\n",
    ")\n",
    "\n",
    "print(response.choices[0].text.strip())"
   ]
  }
 ],
 "metadata": {
  "kernelspec": {
   "display_name": "Python 3 (ipykernel)",
   "language": "python",
   "name": "python3"
  },
  "language_info": {
   "codemirror_mode": {
    "name": "ipython",
    "version": 3
   },
   "file_extension": ".py",
   "mimetype": "text/x-python",
   "name": "python",
   "nbconvert_exporter": "python",
   "pygments_lexer": "ipython3",
   "version": "3.12.3"
  }
 },
 "nbformat": 4,
 "nbformat_minor": 5
}
