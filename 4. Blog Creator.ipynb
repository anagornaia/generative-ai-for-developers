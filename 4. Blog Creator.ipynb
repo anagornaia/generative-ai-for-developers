{
 "cells": [
  {
   "cell_type": "code",
   "execution_count": null,
   "id": "75f1229b-4577-4b30-bcdc-21bd012d11ed",
   "metadata": {},
   "outputs": [],
   "source": [
    "#Blog Creator"
   ]
  },
  {
   "cell_type": "code",
   "execution_count": 1,
   "id": "f56ec12b-fa35-4bfe-9c43-1dc62b1ace22",
   "metadata": {},
   "outputs": [],
   "source": [
    "import os\n",
    "from openai import OpenAI"
   ]
  },
  {
   "cell_type": "code",
   "execution_count": 2,
   "id": "ce7d396e-478b-4493-9380-733da08c10ea",
   "metadata": {},
   "outputs": [],
   "source": [
    "client = OpenAI(api_key=os.environ.get(\"OPENAI_API_KEY\", \"<your key>\"))"
   ]
  },
  {
   "cell_type": "code",
   "execution_count": null,
   "id": "13930ea4-476e-4a12-a1a0-c36f74894539",
   "metadata": {},
   "outputs": [],
   "source": [
    "#Example 1"
   ]
  },
  {
   "cell_type": "code",
   "execution_count": 3,
   "id": "235c0042-e2b1-4f0a-93e0-f9837a374878",
   "metadata": {},
   "outputs": [
    {
     "name": "stdout",
     "output_type": "stream",
     "text": [
      "Welcome to the Blog Creator!\n",
      "\n"
     ]
    },
    {
     "name": "stdin",
     "output_type": "stream",
     "text": [
      "Enter a topic for the blog:  Nord Ost\n",
      "Enter the maximum length:  250\n"
     ]
    },
    {
     "name": "stdout",
     "output_type": "stream",
     "text": [
      "Nord Ost was a tragic event that took place in Moscow, Russia in October 2002. It was a terrorist attack that targeted the audience of a popular musical called \"Nord Ost\" at the Dubrovka Theater. The attackers, who were linked to the Chechen separatist movement, took over 800 people hostage for three days before Russian special forces stormed the theater in a rescue attempt.\n",
      "\n",
      "The attack was devastating, resulting in the deaths of 170 hostages, including many children, due to the effects of the toxic gas used by the Russian forces to subdue the terrorists. The attackers themselves were also killed in the assault.\n",
      "\n",
      "The Nord Ost tragedy shocked the world and brought attention to the ongoing conflict between Russia and Chechnya. It also raised questions about the Russian government's handling of the situation and the use of force in hostage rescue operations.\n",
      "\n",
      "In the aftermath of the attack, there were criticisms about the lack of communication between the Russian authorities and the international community, as well as concerns about the lasting psychological impact on the survivors and the families of the victims.\n",
      "\n",
      "Despite the tragic events of Nord Ost, the spirit of resilience and solidarity shown by the people of Moscow and the world in response to the attack is a testament to the human capacity\n"
     ]
    }
   ],
   "source": [
    "def create_blog_post(topic, length=300):\n",
    "\n",
    "    prompt = f''' \n",
    "    \n",
    "    Write a blog about {topic}. \n",
    "    \n",
    "    \n",
    "    ''' \n",
    "\n",
    "    messages=[\n",
    "            {\"role\": \"system\", \"content\": \"You are an expert blog writer\",\n",
    "            \"role\": \"user\", \"content\": prompt},\n",
    "        ]\n",
    "\n",
    "    response = client.chat.completions.create(\n",
    "        model=\"gpt-3.5-turbo\",\n",
    "        messages=messages,\n",
    "        max_tokens=length\n",
    "    )\n",
    "    \n",
    "    return response.choices[0].message.content\n",
    "\n",
    "print(\"Welcome to the Blog Creator!\\n\")\n",
    "\n",
    "topic = input(\"Enter a topic for the blog: \")\n",
    "length = int(input(\"Enter the maximum length: \"))\n",
    "\n",
    "blog_text = create_blog_post(topic, length)\n",
    "print()\n",
    "print(\"Post:\\n\",blog_text)"
   ]
  },
  {
   "cell_type": "code",
   "execution_count": null,
   "id": "78c16a1b-dca7-4c51-a797-4d58f6225379",
   "metadata": {},
   "outputs": [],
   "source": [
    "#Example 2. Tocken limit in promt"
   ]
  },
  {
   "cell_type": "code",
   "execution_count": 4,
   "id": "aa43b10e-42e7-4d93-8581-5e6a2672e6e2",
   "metadata": {},
   "outputs": [
    {
     "name": "stdout",
     "output_type": "stream",
     "text": [
      "Welcome to the Blog Creator!\n",
      "\n"
     ]
    },
    {
     "name": "stdin",
     "output_type": "stream",
     "text": [
      "Enter a topic for the blog:  Nord Ost\n",
      "Enter the maximum length:  250\n"
     ]
    },
    {
     "name": "stdout",
     "output_type": "stream",
     "text": [
      "Post:\n",
      " Nord Ost is a powerful and emotional play centered around the tragic events of the 2002 Dubrovka Theatre siege in Moscow. The production tells the harrowing story of a group of Russian civilians held hostage by Chechen terrorists during a performance of a musical.\n",
      "\n",
      "The play, written by German playwright Astrid Rosenfeld, masterfully captures the fear, tension, and humanity of those caught in the crossfire of a political conflict. Through the use of music, dance, and dialogue, Nord Ost delves deep into the emotional toll of terrorism on ordinary people just trying to enjoy a night out.\n",
      "\n",
      "The performances by the cast are mesmerizing, with each actor embodying the fear, hope, and resilience of their characters. The set design and lighting create a hauntingly realistic atmosphere, drawing the audience into the claustrophobic confines of the theatre.\n",
      "\n",
      "Nord Ost is a poignant reminder of the devastating impact of terrorism on innocent lives, as well as a tribute to the strength and courage of those who survive such unimaginable horrors. It is a must-see production that will leave audiences moved and inspired long after the final curtain falls.\n"
     ]
    }
   ],
   "source": [
    "def create_blog_post(topic, length=300):\n",
    "\n",
    "    prompt = f''' \n",
    "    \n",
    "    Write a blog about {topic}. Limit it to no more than {length} words.\n",
    "    \n",
    "    \n",
    "    ''' \n",
    "\n",
    "    response = client.chat.completions.create(\n",
    "        model=\"gpt-3.5-turbo\",\n",
    "        messages=[\n",
    "            {\"role\": \"system\", \"content\": \"You are an expert blog writer\",\n",
    "            \"role\": \"user\", \"content\": prompt},\n",
    "        ],\n",
    "        # max_tokens=length\n",
    "    )\n",
    "    \n",
    "    return response.choices[0].message.content\n",
    "\n",
    "print(\"Welcome to the Blog Creator!\\n\")\n",
    "\n",
    "topic = input(\"Enter a topic for the blog: \")\n",
    "length = int(input(\"Enter the maximum length: \"))\n",
    "\n",
    "blog_text = create_blog_post(topic, length)\n",
    "print()\n",
    "print(\"Post:\\n\",blog_text)"
   ]
  },
  {
   "cell_type": "code",
   "execution_count": null,
   "id": "09fded90-de83-4734-ac41-aa2a7d6e7acd",
   "metadata": {},
   "outputs": [],
   "source": [
    "#Example 3. Responce formatting"
   ]
  },
  {
   "cell_type": "code",
   "execution_count": 5,
   "id": "85a28cf8-65a4-400c-9584-e494d2c69c5e",
   "metadata": {},
   "outputs": [
    {
     "name": "stdout",
     "output_type": "stream",
     "text": [
      "Welcome to the Blog Creator!\n",
      "\n"
     ]
    },
    {
     "name": "stdin",
     "output_type": "stream",
     "text": [
      "Enter a topic for the blog:  Nord Ost\n",
      "Enter the maximum length:  250\n"
     ]
    },
    {
     "name": "stdout",
     "output_type": "stream",
     "text": [
      "Title: The Tragic Story of Nord Ost: A Tale of Resilience and Rememberance\n",
      "\n",
      "Blog: \n",
      "In 2002, the Nord Ost siege shocked the world as Chechen rebels stormed a theater in Moscow, taking over 800 people hostage during a performance of a popular musical. The ordeal lasted for three days, with hostages facing extreme conditions and fear for their lives. The Russian government eventually decided to end the siege by using a toxic gas to incapacitate the terrorists, leading to the deaths of 130 hostages.\n",
      "\n",
      "The Nord Ost siege left a lasting impact on all those involved, from the hostages who survived to the families who lost loved ones to the brave first responders who risked their lives to save others. It is a tragic reminder of the horrors of terrorism and the lengths people will go to in order to spread fear and violence.\n",
      "\n",
      "Despite the immense tragedy of Nord Ost, the survivors have shown incredible resilience and strength in the face of such trauma. They have come together to support one another and honor the memory of those who did not make it out alive. Their courage and determination to overcome such a horrific event is truly inspiring.\n",
      "\n",
      "As we reflect on the events of Nord Ost, let us remember the victims, honor their bravery, and continue to work towards a world where such acts of terror are never repeated.\n"
     ]
    }
   ],
   "source": [
    "def create_blog_post(topic, length=300):\n",
    "\n",
    "    prompt = f''' \n",
    "    \n",
    "    Write a blog about {topic}. Limit it to no more than {length} words.\n",
    "    Create an interesting title for the blog.\n",
    "    \n",
    "    Use the following format for the blog:\n",
    "\n",
    "    Title: <title of the blog>\n",
    "    Blog: <the text of the blog>\n",
    "    \n",
    "    ''' \n",
    "\n",
    "    response = client.chat.completions.create(\n",
    "        model=\"gpt-3.5-turbo\",\n",
    "        messages=[\n",
    "            {\"role\": \"system\", \"content\": \"You are an expert blog writer\",\n",
    "            \"role\": \"user\", \"content\": prompt},\n",
    "        ],\n",
    "    )\n",
    "    \n",
    "    return response.choices[0].message.content\n",
    "\n",
    "print(\"Welcome to the Blog Creator!\\n\")\n",
    "\n",
    "topic = input(\"Enter a topic for the blog: \")\n",
    "length = int(input(\"Enter the maximum length: \"))\n",
    "\n",
    "blog_text = create_blog_post(topic, length)\n",
    "print()\n",
    "print(blog_text)"
   ]
  },
  {
   "cell_type": "code",
   "execution_count": null,
   "id": "b8e67012-10dc-423f-9b10-3a0b115dee6b",
   "metadata": {},
   "outputs": [],
   "source": [
    "#Example 4. Responce formatting with date"
   ]
  },
  {
   "cell_type": "code",
   "execution_count": 6,
   "id": "07e0bb87-2d83-4819-aa62-7ad26cf0586f",
   "metadata": {},
   "outputs": [
    {
     "name": "stdout",
     "output_type": "stream",
     "text": [
      "Welcome to the Blog Creator!\n",
      "\n"
     ]
    },
    {
     "name": "stdin",
     "output_type": "stream",
     "text": [
      "Enter a topic for the blog:  Chernobyl\n",
      "Enter the maximum length:  250\n"
     ]
    },
    {
     "name": "stdout",
     "output_type": "stream",
     "text": [
      "\n",
      "Title: Exploring the Haunting History of Chernobyl\n",
      "Date: October 23, 2021\n",
      "Blog: \n",
      "Nestled in northern Ukraine, the site of the Chernobyl nuclear disaster serves as a haunting reminder of the dangers of nuclear power. On April 26, 1986, the explosion at the Chernobyl Nuclear Power Plant released radioactive material into the atmosphere, resulting in widespread devastation and evacuations.\n",
      "\n",
      "Today, the abandoned city of Pripyat stands frozen in time, a stark reminder of the tragedy that unfolded over thirty years ago. Visitors can now explore the eerie streets, overgrown with vegetation, and witness the crumbling buildings that once housed thousands of residents.\n",
      "\n",
      "Despite the risks of radiation exposure, tourism has increased in recent years as people flock to the area to witness the eerie beauty of this post-apocalyptic landscape. Guided tours offer visitors a unique opportunity to learn about the events leading up to the disaster and the ongoing efforts to contain the radioactive contamination.\n",
      "\n",
      "Chernobyl serves as a poignant reminder of the fragility of our world and the devastating consequences of nuclear accidents. As we navigate the challenges of the modern world, it is crucial to remember the lessons learned from Chernobyl and strive towards a more sustainable future.\n"
     ]
    }
   ],
   "source": [
    "def create_blog_post(topic, length=300):\n",
    "\n",
    "    prompt = f''' \n",
    "    \n",
    "    Write a blog about {topic}. Limit it to no more than {length} words.\n",
    "    Create an interesting title for the blog.\n",
    "    \n",
    "    Use the following format for the blog:\n",
    "\n",
    "    Title: <title of the blog>\n",
    "    Date: <current date>\n",
    "    Blog: <the text of the blog>\n",
    "    \n",
    "    ''' \n",
    "\n",
    "    response = client.chat.completions.create(\n",
    "        model=\"gpt-3.5-turbo\",\n",
    "        messages=[\n",
    "            {\"role\": \"system\", \"content\": \"You are an expert blog writer\",\n",
    "            \"role\": \"user\", \"content\": prompt},\n",
    "        ],\n",
    "    )\n",
    "    \n",
    "    return response.choices[0].message.content\n",
    "\n",
    "print(\"Welcome to the Blog Creator!\\n\")\n",
    "\n",
    "topic = input(\"Enter a topic for the blog: \")\n",
    "length = int(input(\"Enter the maximum length: \"))\n",
    "\n",
    "blog_text = create_blog_post(topic, length)\n",
    "print()\n",
    "print(blog_text)"
   ]
  },
  {
   "cell_type": "code",
   "execution_count": null,
   "id": "d048f362-213e-4357-9ca3-04d6ffd00008",
   "metadata": {},
   "outputs": [],
   "source": [
    "#Example 5. Responce formatting. HTML"
   ]
  },
  {
   "cell_type": "code",
   "execution_count": 7,
   "id": "32002cd5-70e7-4786-bd83-1c9f6cfae2a4",
   "metadata": {},
   "outputs": [
    {
     "name": "stdout",
     "output_type": "stream",
     "text": [
      "Welcome to the Blog Creator!\n",
      "\n"
     ]
    },
    {
     "name": "stdin",
     "output_type": "stream",
     "text": [
      "Enter a topic for the blog:  Chernobyl 19863\n",
      "Enter the maximum length:  250\n"
     ]
    },
    {
     "name": "stdout",
     "output_type": "stream",
     "text": [
      "Title: The Haunting History of Chernobyl\n",
      "\n",
      "Date: September 17, 2021\n",
      "\n",
      "Blog: The Chernobyl disaster of 1986 stands as one of the most catastrophic nuclear accidents in history. The meltdown of Reactor 4 at the Chernobyl Nuclear Power Plant in Ukraine resulted in the release of radioactive materials, causing widespread devastation and long-term health effects for those exposed. The ghost town of Pripyat, once home to the plant's workers and their families, now stands as a chilling reminder of the disaster.\n",
      "\n",
      "The aftermath of Chernobyl sparked international concern over nuclear safety and led to improvements in reactor design and emergency preparedness. Today, the site of the disaster is a poignant reminder of the dangers of nuclear energy and the importance of responsible management.\n",
      "\n",
      "HTML version: \n",
      "\n",
      "```html\n",
      "<!DOCTYPE html>\n",
      "<html>\n",
      "<head>\n",
      "<title>The Haunting History of Chernobyl</title>\n",
      "</head>\n",
      "<body>\n",
      "<p>The Chernobyl disaster of 1986 stands as one of the most catastrophic nuclear accidents in history. The meltdown of Reactor 4 at the Chernobyl Nuclear Power Plant in Ukraine resulted in the release of radioactive materials, causing widespread devastation and long-term health effects for those exposed. The ghost town of Pripyat, once home to the plant's workers and their families, now stands as a chilling reminder of the disaster.</p>\n",
      "<p>The aftermath of Chernobyl sparked international concern over nuclear safety and led to improvements in reactor design and emergency preparedness. Today, the site of the disaster is a poignant reminder of the dangers of nuclear energy and the importance of responsible management.</p>\n",
      "</body>\n",
      "</html>\n",
      "```\n"
     ]
    }
   ],
   "source": [
    "def create_blog_post(topic, length=300):\n",
    "\n",
    "    prompt = f''' \n",
    "    \n",
    "    Write a blog about {topic}. Limit it to no more than {length} words.\n",
    "    Create an interesting title for the blog.  Also, translate the title and blog the\n",
    "    into HTML.\n",
    "    \n",
    "    Use the following format for the blog:\n",
    "\n",
    "    Title: <title of the blog>\n",
    "    Date: <current date>\n",
    "    Blog: <the text of the blog>\n",
    "    HTML version: <HTML of the title and blog text>\n",
    "    \n",
    "    ''' \n",
    "\n",
    "    response = client.chat.completions.create(\n",
    "        model=\"gpt-3.5-turbo\",\n",
    "        messages=[\n",
    "            {\"role\": \"system\", \"content\": \"You are an expert blog writer\",\n",
    "            \"role\": \"user\", \"content\": prompt},\n",
    "        ],\n",
    "    )\n",
    "    \n",
    "    return response.choices[0].message.content\n",
    "\n",
    "print(\"Welcome to the Blog Creator!\\n\")\n",
    "\n",
    "topic = input(\"Enter a topic for the blog: \")\n",
    "length = int(input(\"Enter the maximum length: \"))\n",
    "\n",
    "blog_text = create_blog_post(topic, length)\n",
    "\n",
    "print(blog_text)"
   ]
  },
  {
   "cell_type": "code",
   "execution_count": null,
   "id": "30a99dc7-0f71-47b7-b9c4-908e8ba4e209",
   "metadata": {},
   "outputs": [],
   "source": [
    "#Example 6. Tone parameter"
   ]
  },
  {
   "cell_type": "code",
   "execution_count": 8,
   "id": "51653886-4ce9-4abb-9913-92d6cd7052b3",
   "metadata": {},
   "outputs": [
    {
     "name": "stdout",
     "output_type": "stream",
     "text": [
      "Welcome to the Blog Creator!\n",
      "\n"
     ]
    },
    {
     "name": "stdin",
     "output_type": "stream",
     "text": [
      "Enter a topic for the blog:  Chernobyl\n",
      "Enter the maximum length:  250\n",
      "Enter the tone: 1=funny, 2=serious, 3=neutral 1\n"
     ]
    },
    {
     "name": "stdout",
     "output_type": "stream",
     "text": [
      "Title: Chernobyl: Where Radioactive Fun Meets Bad Decisions\n",
      "Date: October 15, 2021\n",
      "Blog: Chernobyl, the infamous site of one of the worst nuclear disasters in history. Who knew that combining lots of radiation with a dash of human error could create such a mess? It's like a recipe for disaster that no one asked for. But hey, at least now we have a cool abandoned city to explore, right? Sure, you might grow an extra limb or two, but think of the Instagram likes! So pack your Geiger counter and hazmat suit, because we're going on a radioactive adventure!\n",
      "\n",
      "HTML version: <h1>Chernobyl: Where Radioactive Fun Meets Bad Decisions</h1>\n",
      "<p>Chernobyl, the infamous site of one of the worst nuclear disasters in history. Who knew that combining lots of radiation with a dash of human error could create such a mess? It's like a recipe for disaster that no one asked for. But hey, at least now we have a cool abandoned city to explore, right? Sure, you might grow an extra limb or two, but think of the Instagram likes! So pack your Geiger counter and hazmat suit, because we're going on a radioactive adventure!</p>\n"
     ]
    }
   ],
   "source": [
    "def create_blog_post(topic, length=300, tone=1):\n",
    "    \n",
    "    if tone == 1:\n",
    "        tone_description = 'funny'\n",
    "    elif tone == 2:\n",
    "        tone_description = 'serious'\n",
    "    else:\n",
    "        tone_description = 'neutral'\n",
    "\n",
    "    prompt = f''' \n",
    "    \n",
    "    Write a blog about {topic}. Limit it to no more than {length} words.\n",
    "    The tone is {tone_description}\n",
    "    Create an interesting title for the blog.  Also, translate the title and blog tet\n",
    "    into HTML.\n",
    "    \n",
    "    Use the following format for the blog:\n",
    "\n",
    "    Title: <title of the blog>\n",
    "    Date: <current date>\n",
    "    Blog: <the text of the blog>\n",
    "    HTML version: <HTML of the title and blog text>\n",
    "    \n",
    "    ''' \n",
    "\n",
    "    response = client.chat.completions.create(\n",
    "        model=\"gpt-3.5-turbo\",\n",
    "        messages=[\n",
    "            {\"role\": \"system\", \"content\": \"You are an expert blog writer\",\n",
    "            \"role\": \"user\", \"content\": prompt},\n",
    "        ],\n",
    "    )\n",
    "    \n",
    "    return response.choices[0].message.content\n",
    "\n",
    "print(\"Welcome to the Blog Creator!\\n\")\n",
    "\n",
    "topic = input(\"Enter a topic for the blog: \")\n",
    "length = int(input(\"Enter the maximum length: \"))\n",
    "tone = int(input(\"Enter the tone: 1=funny, 2=serious, 3=neutral\"))\n",
    "\n",
    "blog_text = create_blog_post(topic, length, tone)\n",
    "\n",
    "print(blog_text)"
   ]
  },
  {
   "cell_type": "code",
   "execution_count": null,
   "id": "41158162-53e9-4529-9bdd-ddc5e1befe6c",
   "metadata": {},
   "outputs": [],
   "source": [
    "#Example 7. Different promt"
   ]
  },
  {
   "cell_type": "code",
   "execution_count": 9,
   "id": "6ad07209-5af9-44d8-b52f-aac9b571d8fe",
   "metadata": {},
   "outputs": [
    {
     "name": "stdout",
     "output_type": "stream",
     "text": [
      "Welcome to the Blog Creator!\n",
      "\n"
     ]
    },
    {
     "name": "stdin",
     "output_type": "stream",
     "text": [
      "Enter a topic for the blog:  Chernobyl\n",
      "Enter the maximum length:  250\n",
      "Enter the tone: 1=funny, 2=serious, 3=neutral 3\n"
     ]
    },
    {
     "name": "stdout",
     "output_type": "stream",
     "text": [
      "Title: Exploring Chernobyl\n",
      "\n",
      "Date: October 12, 2021\n",
      "\n",
      "Summary: Learn about the history and impact of the Chernobyl nuclear disaster.\n",
      "\n",
      "Blog: \n",
      "Heading: History of Chernobyl\n",
      "Chernobyl, located in Ukraine, was the site of a catastrophic nuclear accident in 1986. The explosion at the power plant released a large amount of radioactive material into the environment.\n",
      "\n",
      "Heading: Impact of the Disaster\n",
      "The Chernobyl disaster had devastating consequences for the surrounding area. Many people were forced to evacuate their homes and the effects of the radiation are still being felt decades later.\n",
      "\n",
      "Heading: Current State of Chernobyl\n",
      "Today, Chernobyl is a popular tourist destination, attracting visitors from around the world who want to learn more about the history of the disaster. The area is still contaminated with radiation, but tours are guided to ensure the safety of visitors.\n",
      "\n",
      "HTML version: \n",
      "```\n",
      "<title>Exploring Chernobyl</title>\n",
      "<p>Learn about the history and impact of the Chernobyl nuclear disaster.</p>\n",
      "```\n",
      "\n"
     ]
    }
   ],
   "source": [
    "def create_blog_post(topic, length=300, tone=1):\n",
    "    \n",
    "    if tone == 1:\n",
    "        tone_description = 'funny'\n",
    "    elif tone == 2:\n",
    "        tone_description = 'serious'\n",
    "    else:\n",
    "        tone_description = 'neutral'\n",
    "\n",
    "    prompt = f''' \n",
    "    \n",
    "    Write a blog about {topic}. Limit it to no more than {length} words.\n",
    "    The tone is {tone_description}. Write in the active voice. \n",
    "    Write at a 5th grade level.\n",
    "    Create an interesting title for the blog.  \n",
    "    Create section headings.\n",
    "    Write a one or two sentence summary of the blog post.\n",
    "    \n",
    "    \n",
    "    Also, translate the title and blog tet\n",
    "    into HTML.\n",
    "    \n",
    "    Use the following format for the blog:\n",
    "\n",
    "    Title: <title of the blog>\n",
    "    Date: <current date>\n",
    "    Summary: <one or two sentence summary of the blog post>\n",
    "    Blog: <the text of the blog>\n",
    "    HTML version: <HTML of the title and blog text>\n",
    "    \n",
    "    ''' \n",
    "\n",
    "    response = client.chat.completions.create(\n",
    "        model=\"gpt-3.5-turbo\",\n",
    "        messages=[\n",
    "            {\"role\": \"system\", \"content\": \"You are an expert blog writer\",\n",
    "            \"role\": \"user\", \"content\": prompt},\n",
    "        ],\n",
    "    )\n",
    "    \n",
    "    return response.choices[0].message.content\n",
    "\n",
    "print(\"Welcome to the Blog Creator!\\n\")\n",
    "\n",
    "topic = input(\"Enter a topic for the blog: \")\n",
    "length = int(input(\"Enter the maximum length: \"))\n",
    "tone = int(input(\"Enter the tone: 1=funny, 2=serious, 3=neutral\"))\n",
    "\n",
    "blog_text = create_blog_post(topic, length, tone)\n",
    "\n",
    "print(blog_text)"
   ]
  }
 ],
 "metadata": {
  "kernelspec": {
   "display_name": "Python 3 (ipykernel)",
   "language": "python",
   "name": "python3"
  },
  "language_info": {
   "codemirror_mode": {
    "name": "ipython",
    "version": 3
   },
   "file_extension": ".py",
   "mimetype": "text/x-python",
   "name": "python",
   "nbconvert_exporter": "python",
   "pygments_lexer": "ipython3",
   "version": "3.12.3"
  }
 },
 "nbformat": 4,
 "nbformat_minor": 5
}
