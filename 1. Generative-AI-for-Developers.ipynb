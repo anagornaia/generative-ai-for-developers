{
 "cells": [
  {
   "cell_type": "code",
   "execution_count": 1,
   "id": "178a8204-9ef1-4014-98e2-fe9a2b10ff2d",
   "metadata": {
    "scrolled": true
   },
   "outputs": [],
   "source": [
    "#pip install --upgrade openai"
   ]
  },
  {
   "cell_type": "code",
   "execution_count": 1,
   "id": "eb98ea52-5e7a-4b59-a230-5f385e0649c1",
   "metadata": {},
   "outputs": [],
   "source": [
    "import os\n",
    "from openai import OpenAI"
   ]
  },
  {
   "cell_type": "code",
   "execution_count": null,
   "id": "ed50bd73-ce06-4eb9-9169-e4237dbfb0ef",
   "metadata": {},
   "outputs": [],
   "source": [
    "## save your key in a variable or take from env var"
   ]
  },
  {
   "cell_type": "code",
   "execution_count": 3,
   "id": "c3436e1b-4f16-4fb3-a101-81c7881ff687",
   "metadata": {},
   "outputs": [],
   "source": [
    "client = OpenAI(api_key=os.environ.get(\"OPENAI_API_KEY\", \"<your key>\"))"
   ]
  },
  {
   "cell_type": "code",
   "execution_count": 4,
   "id": "840f3d1e-10a2-46e2-b176-26ead2ec63a4",
   "metadata": {},
   "outputs": [],
   "source": [
    "#Calling the OpenAI API"
   ]
  },
  {
   "cell_type": "code",
   "execution_count": 8,
   "id": "9f6c912c-51d5-4105-9b79-94583ed5c25f",
   "metadata": {},
   "outputs": [
    {
     "data": {
      "text/plain": [
       "'red.'"
      ]
     },
     "execution_count": 8,
     "metadata": {},
     "output_type": "execute_result"
    }
   ],
   "source": [
    "chat_completion  = client.chat.completions.create(\n",
    "    messages=[\n",
    "        {\n",
    "            \"role\": \"user\",\n",
    "            \"content\": \"The color of the car was \",\n",
    "        }\n",
    "    ],\n",
    "    model=\"gpt-3.5-turbo\",\n",
    ")\n",
    "chat_completion.choices[0].message.content\n",
    "#chat_completion"
   ]
  },
  {
   "cell_type": "code",
   "execution_count": 9,
   "id": "65bfd6c4-e035-46a5-8fe2-e24a0f1f7033",
   "metadata": {},
   "outputs": [
    {
     "data": {
      "text/plain": [
       "'Generative AI is a type of artificial intelligence that can create new, original content such as images, text, or music without direct human input.'"
      ]
     },
     "execution_count": 9,
     "metadata": {},
     "output_type": "execute_result"
    }
   ],
   "source": [
    "chat_completion = client.chat.completions.create(\n",
    "    messages=[\n",
    "        {\n",
    "            \"role\": \"user\",\n",
    "            \"content\": \"Describe generative ai in one sentence\",\n",
    "        }\n",
    "    ],\n",
    "    model=\"gpt-3.5-turbo\",\n",
    ")\n",
    "chat_completion.choices[0].message.content\n",
    "#chat_completion"
   ]
  },
  {
   "cell_type": "code",
   "execution_count": 10,
   "id": "ad76e112-8e27-44e4-b617-e0779011d940",
   "metadata": {},
   "outputs": [
    {
     "data": {
      "text/plain": [
       "'Generative AI is unlocking endless possibilities by creating unique and original content like never before! #innovation #AI'"
      ]
     },
     "execution_count": 10,
     "metadata": {},
     "output_type": "execute_result"
    }
   ],
   "source": [
    "chat_completion = client.chat.completions.create(\n",
    "    messages=[\n",
    "            {\"role\": \"system\", \"content\": \"You are an social media expert\"},\n",
    "            {\"role\": \"user\", \"content\": \"Write a one line tweet about generative ai\"},\n",
    "    ],\n",
    "    model=\"gpt-3.5-turbo\",\n",
    ")\n",
    "chat_completion.choices[0].message.content\n",
    "#chat_completion"
   ]
  },
  {
   "cell_type": "code",
   "execution_count": null,
   "id": "698ba657-4ee2-4281-965c-caa3ffde1855",
   "metadata": {},
   "outputs": [],
   "source": [
    "#OpenAI API Parameters\n",
    "# @see https://github.com/openai/openai-python/blob/main/src/openai/types/completion_create_params.py"
   ]
  },
  {
   "cell_type": "code",
   "execution_count": null,
   "id": "e8292aa5-1952-43e6-a9fa-4d255493d22e",
   "metadata": {},
   "outputs": [],
   "source": [
    "#max_tokens\n",
    "#The maximum number of [tokens](/tokenizer) that can be generated in the completion.\n",
    "\n",
    "#The token count of your prompt plus `max_tokens` cannot exceed the model's context length.\n",
    "#[Example Python code](https://cookbook.openai.com/examples/how_to_count_tokens_with_tiktoken) for counting tokens."
   ]
  },
  {
   "cell_type": "code",
   "execution_count": 11,
   "id": "424ac1f4-0ddb-45ec-8a5f-9a6dd3f18dee",
   "metadata": {},
   "outputs": [
    {
     "name": "stdout",
     "output_type": "stream",
     "text": [
      "In the house of warmth and light, \n",
      "There dwells a friend so true and bright. \n",
      "A furry companion, loyal and kind, \n",
      "A treasure that in my heart I find.\n",
      "\n",
      "His name is Joe, a dog so dear, \n",
      "With eyes that sparkle, void of fear. \n",
      "His wagging tail, his playful bark, \n",
      "Bringing joy to me, even in the dark.\n",
      "\n",
      "From sunrise to sunset, he's by my side, \n",
      "In him, my trust I cannot hide\n"
     ]
    },
    {
     "data": {
      "text/plain": [
       "ChatCompletion(id='chatcmpl-9IXxICF9e9PIsb89fk5iFoCagpDXB', choices=[Choice(finish_reason='length', index=0, logprobs=None, message=ChatCompletionMessage(content=\"In the house of warmth and light, \\nThere dwells a friend so true and bright. \\nA furry companion, loyal and kind, \\nA treasure that in my heart I find.\\n\\nHis name is Joe, a dog so dear, \\nWith eyes that sparkle, void of fear. \\nHis wagging tail, his playful bark, \\nBringing joy to me, even in the dark.\\n\\nFrom sunrise to sunset, he's by my side, \\nIn him, my trust I cannot hide\", role='assistant', function_call=None, tool_calls=None))], created=1714207456, model='gpt-3.5-turbo-0125', object='chat.completion', system_fingerprint='fp_3b956da36b', usage=CompletionUsage(completion_tokens=100, prompt_tokens=26, total_tokens=126))"
      ]
     },
     "execution_count": 11,
     "metadata": {},
     "output_type": "execute_result"
    }
   ],
   "source": [
    "chat_completion = client.chat.completions.create(\n",
    "    messages=[\n",
    "        {\"role\": \"system\", \"content\": \"You are a great poet.\"},\n",
    "        {\"role\": \"user\", \"content\": \"Write a poem about your pet dog, Joe\"},\n",
    "    ],\n",
    "    model=\"gpt-3.5-turbo\",\n",
    "    max_tokens=100\n",
    ")\n",
    "print(chat_completion.choices[0].message.content)\n",
    "chat_completion"
   ]
  },
  {
   "cell_type": "code",
   "execution_count": 12,
   "id": "d9e5bf0c-4da7-44ea-b3dc-4e09226423ad",
   "metadata": {
    "scrolled": true
   },
   "outputs": [],
   "source": [
    "#pip install --upgrade tiktoken"
   ]
  },
  {
   "cell_type": "code",
   "execution_count": 36,
   "id": "215b0c41-8edc-4a68-98d1-3d77c44629aa",
   "metadata": {},
   "outputs": [],
   "source": [
    "import tiktoken"
   ]
  },
  {
   "cell_type": "code",
   "execution_count": 38,
   "id": "c75a79c1-0378-4ec4-b3cc-9c8bb7baff1e",
   "metadata": {},
   "outputs": [],
   "source": [
    "encoding = tiktoken.encoding_for_model(\"gpt-3.5-turbo\")\n",
    "encoding"
   ]
  },
  {
   "cell_type": "code",
   "execution_count": 44,
   "id": "e5a6021d-82cf-4a46-9ea0-ee6d66b850c7",
   "metadata": {},
   "outputs": [
    {
     "name": "stdout",
     "output_type": "stream",
     "text": [
      "100\n"
     ]
    }
   ],
   "source": [
    "poem = chat_completion.choices[0].message.content\n",
    "num_tokens = len(encoding.encode(poem))\n",
    "print(num_tokens)"
   ]
  },
  {
   "cell_type": "code",
   "execution_count": null,
   "id": "224a3e3e-1ad6-4563-9efd-e538e1fe6408",
   "metadata": {},
   "outputs": [],
   "source": [
    "#stop\n",
    "#Up to 4 sequences where the API will stop generating further tokens.\n",
    "\n",
    "#The returned text will not contain the stop sequence.\n"
   ]
  },
  {
   "cell_type": "code",
   "execution_count": 54,
   "id": "fd8adffe-701e-4bf1-ad7e-7775a312047e",
   "metadata": {},
   "outputs": [
    {
     "name": "stdout",
     "output_type": "stream",
     "text": [
      "William Shakespeare, widely regarded as one of the greatest playwrights in English literature, wrote numerous plays that continue to be performed and studied around the world. It is challenging to narrow down his top 5 plays, as his work is so varied and each play has its own unique merits. However, here are five of Shakespeare's most popular and highly regarded plays:\n",
      "\n",
      "1. \"Hamlet\" - A tragedy about the Prince of Denmark seeking revenge for his father's murder.\n",
      "2. \"Romeo and Juliet\" - A tragic love story about two young star-crossed lovers from feuding families.\n",
      "3. \"Macbeth\" - A dark and powerful tragedy about ambition, guilt, and the supernatural.\n",
      "4. \"Othello\" - A tragedy exploring themes of jealousy, betrayal, and racism.\n",
      "5. \"A Midsummer Night's Dream\" - A comedic fantasy that weaves together multiple love stories and magical elements.\n",
      "\n",
      "These five plays are just a snapshot of Shakespeare's vast body of work, but they are among his most famous and enduring creations.\n"
     ]
    }
   ],
   "source": [
    "chat_completion = client.chat.completions.create(\n",
    "        messages=[\n",
    "                {\"role\": \"system\", \"content\": \"You are an expert in British literature.\"},\n",
    "                {\"role\": \"user\", \"content\": \"List William Shakespeare's top 5 plays\"},\n",
    "                ],\n",
    "        model=\"gpt-3.5-turbo\",\n",
    "        stop=\"6.\"\n",
    ")\n",
    "print(chat_completion.choices[0].message.content)\n",
    "chat_completion"
   ]
  },
  {
   "cell_type": "code",
   "execution_count": 63,
   "id": "b35c0818-e3ab-42f0-bb8c-961968fc822c",
   "metadata": {},
   "outputs": [
    {
     "name": "stdout",
     "output_type": "stream",
     "text": [
      "William Shakespeare's top 5 plays, often considered his greatest works, are:\n",
      "\n",
      "1. Hamlet\n",
      "2. Macbeth\n",
      "3. Romeo and Juliet\n",
      "4. Othello\n",
      "5. King \n"
     ]
    },
    {
     "data": {
      "text/plain": [
       "ChatCompletion(id='chatcmpl-9IO3UHgvRSiEQBww8cMkf0QPFVk0n', choices=[Choice(finish_reason='stop', index=0, logprobs=None, message=ChatCompletionMessage(content=\"William Shakespeare's top 5 plays, often considered his greatest works, are:\\n\\n1. Hamlet\\n2. Macbeth\\n3. Romeo and Juliet\\n4. Othello\\n5. King \", role='assistant', function_call=None, tool_calls=None))], created=1714169400, model='gpt-3.5-turbo-0125', object='chat.completion', system_fingerprint='fp_3b956da36b', usage=CompletionUsage(completion_tokens=42, prompt_tokens=27, total_tokens=69))"
      ]
     },
     "execution_count": 63,
     "metadata": {},
     "output_type": "execute_result"
    }
   ],
   "source": [
    "chat_completion = client.chat.completions.create(\n",
    "        messages=[\n",
    "                {\"role\": \"system\", \"content\": \"You are an expert in British literature.\"},\n",
    "                {\"role\": \"user\", \"content\": \"List William Shakespeare's top 5 plays\"},\n",
    "                ],\n",
    "        model=\"gpt-3.5-turbo\",\n",
    "        stop=[\"6.\", \"Lear\"]\n",
    ")\n",
    "print(chat_completion.choices[0].message.content)\n",
    "chat_completion"
   ]
  },
  {
   "cell_type": "code",
   "execution_count": null,
   "id": "58f467d9-210a-46fc-a349-c2c6cfc531e3",
   "metadata": {},
   "outputs": [],
   "source": [
    "# n\n",
    "# How many completions to generate for each prompt.\n",
    "\n",
    "#**Note:** Because this parameter generates many completions, it can quickly consume your token quota. Use carefully and ensure that you have reasonable\n",
    "#settings for `max_tokens` and `stop`.\n"
   ]
  },
  {
   "cell_type": "code",
   "execution_count": 13,
   "id": "9156ab42-528e-4385-b1e8-65dcf07e65a1",
   "metadata": {},
   "outputs": [
    {
     "name": "stdout",
     "output_type": "stream",
     "text": [
      "\"Accidentally wore my shirt inside out today and somehow convinced everyone it's the new trend. Guess you could say I'm a fashion innovator 😎 #Trendsetter #FashionFail\"\n",
      "\"Just remembered that time I accidentally liked my ex's new partner's post from 3 years ago. Oops, my bad! #SocialMediaFail\"\n",
      "\"Why did the smartphone go to therapy? Because it had too many apps-ssues! 📱😂 #TechHumor #SmartphoneProblems\"\n"
     ]
    },
    {
     "data": {
      "text/plain": [
       "ChatCompletion(id='chatcmpl-9IXy9KO0USmotKWLdi6RQRTAmMeqj', choices=[Choice(finish_reason='stop', index=0, logprobs=None, message=ChatCompletionMessage(content='\"Accidentally wore my shirt inside out today and somehow convinced everyone it\\'s the new trend. Guess you could say I\\'m a fashion innovator 😎 #Trendsetter #FashionFail\"', role='assistant', function_call=None, tool_calls=None)), Choice(finish_reason='stop', index=1, logprobs=None, message=ChatCompletionMessage(content='\"Just remembered that time I accidentally liked my ex\\'s new partner\\'s post from 3 years ago. Oops, my bad! #SocialMediaFail\"', role='assistant', function_call=None, tool_calls=None)), Choice(finish_reason='stop', index=2, logprobs=None, message=ChatCompletionMessage(content='\"Why did the smartphone go to therapy? Because it had too many apps-ssues! 📱😂 #TechHumor #SmartphoneProblems\"', role='assistant', function_call=None, tool_calls=None))], created=1714207509, model='gpt-3.5-turbo-0125', object='chat.completion', system_fingerprint='fp_3b956da36b', usage=CompletionUsage(completion_tokens=102, prompt_tokens=23, total_tokens=125))"
      ]
     },
     "execution_count": 13,
     "metadata": {},
     "output_type": "execute_result"
    }
   ],
   "source": [
    "chat_completion = client.chat.completions.create(\n",
    "        messages=[\n",
    "                {\"role\": \"system\", \"content\": \"You are an expert in social media.\"},\n",
    "                {\"role\": \"user\", \"content\": \"Create a funny tweet\"},\n",
    "                ],\n",
    "        model=\"gpt-3.5-turbo\",\n",
    "        n = 3\n",
    ")\n",
    "\n",
    "for choice in chat_completion.choices:\n",
    "  print(choice.message.content)\n",
    "\n",
    "chat_completion"
   ]
  },
  {
   "cell_type": "code",
   "execution_count": null,
   "id": "ff9f825a-755c-49a7-bccd-1c52b0b98d19",
   "metadata": {},
   "outputs": [],
   "source": [
    "#temperature\n",
    "#What sampling temperature to use, between 0 and 2.\n",
    "\n",
    "#Higher values like 0.8 will make the output more random, while lower values like 0.2 will make it more focused and deterministic.\n",
    "\n",
    "#We generally recommend altering this or `top_p` but not both."
   ]
  },
  {
   "cell_type": "code",
   "execution_count": 14,
   "id": "c0dcde71-84c1-4406-9c5b-d583335f1542",
   "metadata": {},
   "outputs": [
    {
     "name": "stdout",
     "output_type": "stream",
     "text": [
      "Why did the dentist become a comedian? Because he had a filling for humor!\n"
     ]
    },
    {
     "data": {
      "text/plain": [
       "ChatCompletion(id='chatcmpl-9IXyI3u9xHov94uCr8xA74aLkzmnw', choices=[Choice(finish_reason='stop', index=0, logprobs=None, message=ChatCompletionMessage(content='Why did the dentist become a comedian? Because he had a filling for humor!', role='assistant', function_call=None, tool_calls=None))], created=1714207518, model='gpt-3.5-turbo-0125', object='chat.completion', system_fingerprint='fp_3b956da36b', usage=CompletionUsage(completion_tokens=16, prompt_tokens=23, total_tokens=39))"
      ]
     },
     "execution_count": 14,
     "metadata": {},
     "output_type": "execute_result"
    }
   ],
   "source": [
    "chat_completion = client.chat.completions.create(\n",
    "        messages=[\n",
    "            {\"role\": \"system\", \"content\": \"You are top comedian.\"},\n",
    "            {\"role\": \"user\", \"content\": \"Write a one liner about a dentist\"},\n",
    "                ],\n",
    "        model=\"gpt-3.5-turbo\",\n",
    "        temperature = 1\n",
    ")\n",
    "\n",
    "print(chat_completion.choices[0].message.content)\n",
    "chat_completion"
   ]
  },
  {
   "cell_type": "code",
   "execution_count": 81,
   "id": "63a490c7-ee67-4c90-b51f-d83237dac9b3",
   "metadata": {},
   "outputs": [
    {
     "name": "stdout",
     "output_type": "stream",
     "text": [
      "Why did the dentist receive an award? Because he was outstanding in his field!\n"
     ]
    },
    {
     "data": {
      "text/plain": [
       "ChatCompletion(id='chatcmpl-9IOUsJYk78BZ6vwQmwhKttwbaSCQY', choices=[Choice(finish_reason='stop', index=0, logprobs=None, message=ChatCompletionMessage(content='Why did the dentist receive an award? Because he was outstanding in his field!', role='assistant', function_call=None, tool_calls=None))], created=1714171098, model='gpt-3.5-turbo-0125', object='chat.completion', system_fingerprint='fp_3b956da36b', usage=CompletionUsage(completion_tokens=16, prompt_tokens=23, total_tokens=39))"
      ]
     },
     "execution_count": 81,
     "metadata": {},
     "output_type": "execute_result"
    }
   ],
   "source": [
    "chat_completion = client.chat.completions.create(\n",
    "        messages=[\n",
    "            {\"role\": \"system\", \"content\": \"You are top comedian.\"},\n",
    "            {\"role\": \"user\", \"content\": \"Write a one liner about a dentist\"},\n",
    "                ],\n",
    "        model=\"gpt-3.5-turbo\",\n",
    "        temperature = 0.8\n",
    ")\n",
    "\n",
    "print(chat_completion.choices[0].message.content)\n",
    "chat_completion"
   ]
  },
  {
   "cell_type": "code",
   "execution_count": 16,
   "id": "5c4b9c03-d035-4e15-ac27-4615a271be2e",
   "metadata": {},
   "outputs": [
    {
     "name": "stdout",
     "output_type": "stream",
     "text": [
      "Anyone can be a comedian, but only a tooth expert can truly \"crack\" you up!\n"
     ]
    },
    {
     "data": {
      "text/plain": [
       "ChatCompletion(id='chatcmpl-9IXz3PKof2DarS2FTC3uqrIdFDE1j', choices=[Choice(finish_reason='stop', index=0, logprobs=None, message=ChatCompletionMessage(content='Anyone can be a comedian, but only a tooth expert can truly \"crack\" you up!', role='assistant', function_call=None, tool_calls=None))], created=1714207565, model='gpt-3.5-turbo-0125', object='chat.completion', system_fingerprint='fp_3b956da36b', usage=CompletionUsage(completion_tokens=20, prompt_tokens=23, total_tokens=43))"
      ]
     },
     "execution_count": 16,
     "metadata": {},
     "output_type": "execute_result"
    }
   ],
   "source": [
    "#fails with 500: \n",
    "#Failed to create completion as the model generated invalid Unicode output. Unfortunately, this can happen in rare situations. \n",
    "#Consider reviewing your prompt or reducing the temperature of your request. You can retry your request, or contact us through our \n",
    "#help center at help.openai.com if the error persists. (Please include the request ID req_9389ad59e3001c5938b605e2e9ce8af5 in your message.)\n",
    "\n",
    "chat_completion = client.chat.completions.create(\n",
    "        messages=[\n",
    "            {\"role\": \"system\", \"content\": \"You are top comedian.\"},\n",
    "            {\"role\": \"user\", \"content\": \"Write a one liner about a dentist\"},\n",
    "                ],\n",
    "        model=\"gpt-3.5-turbo\",\n",
    "        temperature = 1.9\n",
    ")\n",
    "\n",
    "print(chat_completion.choices[0].message.content)\n",
    "chat_completion"
   ]
  },
  {
   "cell_type": "code",
   "execution_count": null,
   "id": "f5bd34b9-9582-4ef8-8596-80bf3b0edab5",
   "metadata": {},
   "outputs": [],
   "source": [
    "#frequency_penalty\n",
    "#Number between -2.0 and 2.0.\n",
    "\n",
    "#Positive values penalize new tokens based on their existing frequency in the text so far, decreasing the model's likelihood to \n",
    "#repeat the same line verbatim.\n",
    "\n",
    "#[See more information about frequency and presence penalties.](https://platform.openai.com/docs/guides/text-generation/parameter-details)"
   ]
  },
  {
   "cell_type": "code",
   "execution_count": 17,
   "id": "09a15790-5fdb-403c-8782-df8b72915c0e",
   "metadata": {},
   "outputs": [
    {
     "name": "stdout",
     "output_type": "stream",
     "text": [
      "Jupiter is the largest planet in our solar system, known as a gas giant. It is composed primarily of hydrogen and helium, with a small rocky core at its center. Jupiter is famous for its distinct red, brown, yellow, and white cloud bands, caused by its powerful and dynamic atmosphere, which is primarily composed of hydrogen, helium, and trace amounts of methane, ammonia, and water vapor.\n",
      "\n",
      "Jupiter is also known for its Great Red Spot, a massive, persistent, and,,,,,,,,,,,,,,,,,,,,,,,,,,,,,,,,,,,,,,,,,,,,,,,,,,,,,,,,,,,,,,,,,,,,,,,,,,,,,,,,,,,,,,,,,,,,,,,,,,,,\n"
     ]
    },
    {
     "data": {
      "text/plain": [
       "ChatCompletion(id='chatcmpl-9IXzYpTsag6e64qDCWnAg9MqZmDJN', choices=[Choice(finish_reason='stop', index=0, logprobs=None, message=ChatCompletionMessage(content='Jupiter is the largest planet in our solar system, known as a gas giant. It is composed primarily of hydrogen and helium, with a small rocky core at its center. Jupiter is famous for its distinct red, brown, yellow, and white cloud bands, caused by its powerful and dynamic atmosphere, which is primarily composed of hydrogen, helium, and trace amounts of methane, ammonia, and water vapor.\\n\\nJupiter is also known for its Great Red Spot, a massive, persistent, and,,,,,,,,,,,,,,,,,,,,,,,,,,,,,,,,,,,,,,,,,,,,,,,,,,,,,,,,,,,,,,,,,,,,,,,,,,,,,,,,,,,,,,,,,,,,,,,,,,,,', role='assistant', function_call=None, tool_calls=None))], created=1714207596, model='gpt-3.5-turbo-0125', object='chat.completion', system_fingerprint='fp_3b956da36b', usage=CompletionUsage(completion_tokens=198, prompt_tokens=21, total_tokens=219))"
      ]
     },
     "execution_count": 17,
     "metadata": {},
     "output_type": "execute_result"
    }
   ],
   "source": [
    "chat_completion = client.chat.completions.create(\n",
    "        messages=[\n",
    "            {\"role\": \"system\", \"content\": \"You are an astronomer.\"},\n",
    "            {\"role\": \"user\", \"content\": \"Describe the planet Jupiter\"},\n",
    "                ],\n",
    "        model=\"gpt-3.5-turbo\",\n",
    "        frequency_penalty=-1\n",
    ")\n",
    "\n",
    "print(chat_completion.choices[0].message.content)\n",
    "chat_completion"
   ]
  },
  {
   "cell_type": "code",
   "execution_count": null,
   "id": "36537d8d-6d6c-47ce-8870-b4c2d8295b49",
   "metadata": {},
   "outputs": [],
   "source": [
    "#Zero, One and Few Shot Prompting"
   ]
  },
  {
   "cell_type": "code",
   "execution_count": 18,
   "id": "0b00fe60-1707-46bb-8b33-84987d69179c",
   "metadata": {},
   "outputs": [
    {
     "name": "stdout",
     "output_type": "stream",
     "text": [
      "Hallo, wie geht es Ihnen heute?\n"
     ]
    },
    {
     "data": {
      "text/plain": [
       "ChatCompletion(id='chatcmpl-9IY1LJqUFaYOBcC5IntTDNOHqEryU', choices=[Choice(finish_reason='stop', index=0, logprobs=None, message=ChatCompletionMessage(content='Hallo, wie geht es Ihnen heute?', role='assistant', function_call=None, tool_calls=None))], created=1714207707, model='gpt-3.5-turbo-0125', object='chat.completion', system_fingerprint='fp_3b956da36b', usage=CompletionUsage(completion_tokens=8, prompt_tokens=42, total_tokens=50))"
      ]
     },
     "execution_count": 18,
     "metadata": {},
     "output_type": "execute_result"
    }
   ],
   "source": [
    "chat_completion = client.chat.completions.create(\n",
    "        model=\"gpt-3.5-turbo\",\n",
    "        messages=[\n",
    "        {\"role\": \"system\", \"content\": \"You understand English and German.\"},\n",
    "        {\"role\": \"user\", \"content\": \"\"\"\n",
    "        \n",
    "        Translate the sentence below into German: \\\n",
    "        ### /\n",
    "        Hello, how are you doing today? \\\n",
    "        ### \\\n",
    "        \n",
    "        \"\"\"\n",
    "         },\n",
    "        ],\n",
    ")\n",
    "\n",
    "print(chat_completion.choices[0].message.content)\n",
    "chat_completion"
   ]
  },
  {
   "cell_type": "code",
   "execution_count": 19,
   "id": "08927d48-5c89-47bb-a85b-9b03fcad7158",
   "metadata": {},
   "outputs": [
    {
     "name": "stdout",
     "output_type": "stream",
     "text": [
      "### English: The car is blue. \n",
      "German: Das Auto ist blau.\n",
      "\n",
      "### English: The smartphone is expensive.\n",
      "German: Das Smartphone ist teuer.\n"
     ]
    },
    {
     "data": {
      "text/plain": [
       "ChatCompletion(id='chatcmpl-9IY1O0DE1JPiz3dTnWtOVdkyaGQC8', choices=[Choice(finish_reason='stop', index=0, logprobs=None, message=ChatCompletionMessage(content='### English: The car is blue. \\nGerman: Das Auto ist blau.\\n\\n### English: The smartphone is expensive.\\nGerman: Das Smartphone ist teuer.', role='assistant', function_call=None, tool_calls=None))], created=1714207710, model='gpt-3.5-turbo-0125', object='chat.completion', system_fingerprint='fp_3b956da36b', usage=CompletionUsage(completion_tokens=33, prompt_tokens=62, total_tokens=95))"
      ]
     },
     "execution_count": 19,
     "metadata": {},
     "output_type": "execute_result"
    }
   ],
   "source": [
    "chat_completion = client.chat.completions.create(\n",
    "        model=\"gpt-3.5-turbo\",\n",
    "        messages=[\n",
    "        {\"role\": \"system\", \"content\": \"You understand English and German.\"},\n",
    "        {\"role\": \"user\", \"content\": \"\"\"\n",
    "        \n",
    "        Use the format below: \\\n",
    "        \n",
    "        ### \\\n",
    "        English:  The car is blue. \\\n",
    "        German:  Das Auto ist blau. \\\n",
    "        English:  The smartphone is expensive. \\\n",
    "        German: \\\n",
    "        ### \\\n",
    "        \n",
    "        \"\"\"\n",
    "         },\n",
    "        ],\n",
    ")\n",
    "\n",
    "print(chat_completion.choices[0].message.content)\n",
    "chat_completion"
   ]
  },
  {
   "cell_type": "code",
   "execution_count": 20,
   "id": "04eb8873-3055-4164-90ac-141fc7832314",
   "metadata": {},
   "outputs": [
    {
     "name": "stdout",
     "output_type": "stream",
     "text": [
      "German:  Das Smartphone ist teuer.\n"
     ]
    },
    {
     "data": {
      "text/plain": [
       "ChatCompletion(id='chatcmpl-9IY1TYuI6Fc0CQP8WyWkUcDaRFABq', choices=[Choice(finish_reason='stop', index=0, logprobs=None, message=ChatCompletionMessage(content='German:  Das Smartphone ist teuer.', role='assistant', function_call=None, tool_calls=None))], created=1714207715, model='gpt-3.5-turbo-0125', object='chat.completion', system_fingerprint='fp_3b956da36b', usage=CompletionUsage(completion_tokens=9, prompt_tokens=50, total_tokens=59))"
      ]
     },
     "execution_count": 20,
     "metadata": {},
     "output_type": "execute_result"
    }
   ],
   "source": [
    "chat_completion = client.chat.completions.create(\n",
    "        model=\"gpt-3.5-turbo\",\n",
    "        messages=[\n",
    "            {\"role\": \"system\", \"content\": \"You understand English and German.\"},\n",
    "            {\"role\": \"user\", \"content\": \"English:  The car is blue.\"},\n",
    "            {\"role\": \"assistant\", \"content\": \"German:  Das Auto ist blau.\"},\n",
    "            {\"role\": \"user\", \"content\": \"English:  The smartphone is expensive.\"},\n",
    "        ],\n",
    ")\n",
    "\n",
    "print(chat_completion.choices[0].message.content)\n",
    "chat_completion"
   ]
  },
  {
   "cell_type": "code",
   "execution_count": null,
   "id": "6338372d-8984-4412-ae83-9dd31c4388ac",
   "metadata": {},
   "outputs": [],
   "source": [
    "#Word Embeddings"
   ]
  },
  {
   "cell_type": "code",
   "execution_count": 21,
   "id": "5b12fd4a-b2cc-45f4-8d92-7a8fa7dbfee3",
   "metadata": {},
   "outputs": [],
   "source": [
    "#pip install numpy"
   ]
  },
  {
   "cell_type": "code",
   "execution_count": 22,
   "id": "dabb9d65-748e-447b-a6d0-d7e0eb09606a",
   "metadata": {},
   "outputs": [],
   "source": [
    "import numpy"
   ]
  },
  {
   "cell_type": "code",
   "execution_count": 23,
   "id": "2909ea33-f9d2-466e-b4ce-63874f321023",
   "metadata": {},
   "outputs": [
    {
     "name": "stdout",
     "output_type": "stream",
     "text": [
      "[0.029513338580727577, -0.01663479022681713, 0.010477941483259201, 0.03431455045938492, 0.018964791670441628, -0.007745486218482256, -0.004614106845110655, 0.06348898261785507, 0.005694380030035973, -0.053801827132701874, 0.006975879892706871, 0.004204591736197472, -0.015434487722814083, 0.01512382086366415, -0.017637398093938828, 0.013288062997162342, -0.008451547473669052, 0.013994123786687851, 0.014107093214988708, 0.009948396123945713, -0.026011276990175247, -0.0011464661220088601, 0.003362614195793867, 0.022085579112172127, 0.015900487080216408, 0.012857366353273392, 0.008486850187182426, -0.0067993649281561375, -0.011770032346248627, -0.04270255193114281, 0.034342795610427856, -0.030332369729876518, 0.00922821369022131, -0.02670321799814701, 0.03496412932872772, -0.0032990688923746347, -0.0031260838732123375, 0.0536041297018528, -0.030106429010629654, 0.011304032057523727, -0.04753200709819794, 0.016408851370215416, 0.03332606703042984, -0.02106885239481926, 0.027917642146348953, -0.03191394358873367, -0.05349116027355194, -0.01926133781671524, -0.008628061972558498, 0.04027370363473892, -0.0006645796820521355, 0.027903519570827484, 0.014968487434089184, 0.044029947370290756, 0.04343685507774353, -0.030134672299027443, 0.011134577915072441, 0.016860730946063995, 0.041968248784542084, -0.027889398857951164, -0.02900497429072857, -0.03239406645298004, 0.008388001471757889, -0.029033217579126358, -0.0012373714707791805, -0.0311796423047781, -0.000525132694747299, 0.013831730000674725, -0.0314338244497776, 0.03538776561617851, -0.018202245235443115, 0.06524001061916351, -0.03744946047663689, 0.025093398988246918, 0.0734868049621582, -0.016352366656064987, -0.02585594356060028, 0.0005608769715763628, 0.008169122971594334, 0.00481533445417881, -0.003999833948910236, -0.015208547934889793, -0.007032365072518587, -0.032281097024679184, 0.016832487657666206, -0.00875515304505825, -0.07393868267536163, 0.05645661801099777, 0.003855091519653797, -0.044594794511795044, 0.030897218734025955, 0.04513140395283699, -0.0028118868358433247, 0.02537582255899906, 0.02197260968387127, -0.024330852553248405, -0.002901909640058875, -0.023907216265797615, 0.01889418624341488, 0.031377337872982025, 0.027451641857624054, -0.028736671432852745, 0.000164048804435879, -0.014092972502112389, 0.04157285764813423, 0.048379283398389816, -0.05007382854819298, -0.011635880917310715, -0.025517035275697708, 0.005200137384235859, 0.02632194384932518, -0.03372146189212799, -0.06484461575746536, 0.0475037656724453, 0.007794910576194525, -0.00098230701405555, 0.05168364569544792, -0.0050589251331985, -0.009496516548097134, -0.02060285210609436, -0.011911245062947273, -0.032168127596378326, -0.004335212986916304, -0.04069733992218971, -0.005065985955297947, 0.059817466884851456, -0.059422072023153305, 0.0034632280003279448, 0.0030484171584248543, -0.07100147008895874, -0.024260247126221657, -0.013076244853436947, 0.010562668554484844, -0.021845519542694092, -0.012200729921460152, -0.013895275071263313, -0.026053640991449356, 0.012151305563747883, -0.041516371071338654, -0.01926133781671524, 0.07139686495065689, -0.04021722078323364, 0.049311280250549316, -0.04948073625564575, -0.0042116520926356316, -0.011106335557997227, -0.06518352776765823, 0.03324133902788162, -0.032168127596378326, -0.0017978071700781584, -0.028637822717428207, -0.01429066900163889, -0.03959588706493378, -0.016437094658613205, -0.06670861691236496, -0.04250485822558403, -0.014191821217536926, 0.014347153715789318, -0.03982182592153549, 0.02331412583589554, -0.04225067421793938, -0.01926133781671524, 0.03990655392408371, -0.018258729949593544, 0.004741197917610407, 0.011960668489336967, -0.09941335022449493, 0.00636513764038682, -0.06106013432145119, 0.01012491062283516, -0.015561578795313835, -0.011685305275022984, -0.015137942507863045, 0.026999762281775475, -0.00043930215178988874, -0.00220114435069263, -0.007710183039307594, 0.0025241670664399862, -0.0668780729174614, -0.018315214663743973, 0.01580164022743702, 0.018752973526716232, 0.02762109600007534, -0.028750794008374214, 0.01712903380393982, 0.0015471555525436997, 0.03149030730128288, 0.010407335124909878, 0.02855309657752514, 0.011974790133535862, 0.03855091705918312, -0.034032128751277924, 0.036545705050230026, 0.020955882966518402, 0.010181396268308163, 0.004462304059416056, 0.00236706854775548, -0.0058991373516619205, 0.017213759943842888, 0.013259820640087128, -0.04645879566669464, 0.046656493097543716, 0.00547550106421113, -0.007660759147256613, 0.0035355992149561644, -0.0246132779866457, -0.0526721328496933, 0.04467952251434326, 0.013266880996525288, -0.03151855245232582, 0.026081884279847145, 0.019939154386520386, 0.0062698195688426495, 0.02979576401412487, -0.031857460737228394, -0.015194427222013474, 0.08235492557287216, 0.01969909481704235, -0.008451547473669052, 0.01933194324374199, -0.0014394812751561403, 0.03140558302402496, 0.10630450397729874, -0.022085579112172127, -0.01427654828876257, 0.003957470413297415, -0.017256123945116997, -0.023808367550373077, -0.01580164022743702, 0.03298715874552727, -0.004331682808697224, 0.013083305209875107, -0.022692792117595673, -0.0481533408164978, 0.010040183551609516, 0.05185310170054436, -0.0334390364587307, -0.015392123721539974, 0.004349334165453911, -0.04552679508924484, -0.04338037222623825, -0.025502914562821388, -0.01794806309044361, -0.021831398829817772, -0.04092327877879143, -0.00393628841266036, -0.006121546495705843, 0.0193036999553442, -0.010612092912197113, 0.057219162583351135, 0.03812728077173233, -0.014587215147912502, -0.012426668778061867, -0.01978382095694542, 0.02762109600007534, 0.006707577034831047, 0.06563540548086166, 0.013288062997162342, 0.0756332278251648, -0.02372364141047001, -0.011035729199647903, 0.006093304138630629, -0.05447964742779732, -0.05044097825884819, -0.014488366432487965, -0.0013512237928807735, -0.006873501464724541, -0.0421941913664341, 0.026491397991776466, -0.007205349858850241, -0.0393981896340847, -0.05580703914165497, 0.0542537085711956, 0.024373216554522514, -0.03389091417193413, 0.005609652493149042, -0.0029954626224935055, -0.00946121383458376, -0.0013821139000356197, 0.030388854444026947, -0.0075266072526574135, -0.015406245365738869, -0.001443894230760634, 0.032281097024679184, 0.03479467332363129, 0.007978485897183418, 0.022593943402171135, -0.02404842898249626, 0.05227673798799515, 0.022170307114720345, 0.004232834093272686, 0.010647395625710487, 0.0036009098403155804, -0.019487276673316956, -0.015872245654463768, 0.032309338450431824, -0.05555285885930061, -0.05442316085100174, -0.024853337556123734, -0.019021276384592056, -0.01099336612969637, 0.00921409297734499, 0.005510804243385792, 0.0259406715631485, -0.01753854937851429, 0.019091881811618805, 0.032281097024679184, -0.025686489418148994, -0.00393275823444128, 0.001954023027792573, -0.05885722488164902, 0.015321518294513226, 0.004501137416809797, -0.019557882100343704, -0.034342795610427856, -0.030360611155629158, -0.04592218995094299, 0.04425588622689247, -0.007689001504331827, -0.02060285210609436, 0.06015637516975403, -0.02541818656027317, -0.031857460737228394, 0.0073289102874696255, -0.011551153846085072, 0.014573093503713608, 0.005094228312373161, -0.04160109907388687, 0.0142271239310503, -0.020814670249819756, -0.014163577929139137, -0.019854428246617317, -0.018555276095867157, 0.04066909849643707, -0.016903094947338104, -0.044933706521987915, 0.006389849819242954, -0.034229826182127, -0.05558110028505325, -0.0006795834633521736, -0.03197043016552925, 0.012377244420349598, -0.03064303658902645, -0.000656636490020901, -0.010880395770072937, 0.06874207407236099, 0.041459888219833374, 0.02325764112174511, 0.01839994266629219, -0.016126427799463272, 0.011388760060071945, 0.03959588706493378, 0.025601761415600777, 0.05736037343740463, 0.03852267563343048, -0.011529971845448017, 0.002395311137661338, -0.034879401326179504, 0.02538994327187538, 0.055863525718450546, -0.0197697002440691, -0.021746670827269554, 0.021746670827269554, -0.02503691427409649, -0.02722570113837719, 0.005775576923042536, -0.04733431339263916, -0.032224610447883606, 0.030078187584877014, 0.018950670957565308, -0.030021702870726585, 0.021690186113119125, -0.04442534223198891, -0.040556129068136215, -0.042335402220487595, 0.06224631518125534, 0.0019134245812892914, 0.052361465990543365, 0.02715509571135044, -0.006170970853418112, 0.03550073504447937, -0.0004137074574828148, -0.008875183761119843, 0.04925479739904404, 0.027042126283049583, 0.0085221529006958, 0.04210946336388588, 0.021195942535996437, 0.02496630698442459, -0.037534188479185104, 0.009030517190694809, -0.052841585129499435, 0.015519214794039726, -0.06196388974785805, 0.047983888536691666, 0.009058759547770023, 0.08342813700437546, 0.02976752072572708, -0.03962412849068642, -0.0021199474576860666, 0.015928730368614197, -0.030981944873929024, -0.025799458846449852, 0.01759503409266472, -0.021224185824394226, 0.011988911777734756, 0.025742974132299423, -0.011233426630496979, -0.007286546751856804, -0.015293275937438011, -0.009390607476234436, -0.020419277250766754, 0.030812490731477737, 0.03233758360147476, 0.01296327542513609, -0.0025824171025305986, -0.04467952251434326, -0.02755049057304859, -0.014022366143763065, 0.046176373958587646, -0.01357048749923706, 0.01631000265479088, -0.04425588622689247, 0.01886594295501709, 0.013888214714825153, 0.04171406850218773, 0.0028648413717746735, -0.020518124103546143, -0.007448941003531218, -0.051005829125642776, -0.004607046488672495, -0.035726673901081085, -0.0437757670879364, 0.0386073999106884, -0.009595365263521671, -0.0403301902115345, -0.026533761993050575, 0.04064085707068443, 0.002234682207927108, -0.027988247573375702, -0.07913528382778168, -0.009122304618358612, 0.03586788475513458, -0.019063640385866165, -0.06196388974785805, 0.0018428185721859336, 0.0170443058013916, -0.056400131434202194, -0.027790550142526627, -0.018964791670441628, -0.015660427510738373, 0.002019333653151989, 0.009680092334747314, 0.0011402880772948265, 0.014615457504987717, -0.013499881140887737, 0.03420158103108406, -0.0071276831440627575, 0.006651092320680618, -0.0012567881494760513, 0.05874425172805786, 0.04179879650473595, -4.0736395021667704e-05, 0.0016054055886343122, 0.010160214267671108, 0.02153485268354416, -0.0351618230342865, 0.043154433369636536, -0.017369093373417854, -0.03826849162578583, -0.008882244117558002, 0.004878879524767399, 0.0018763564294204116, 0.033975642174482346, -0.028369519859552383, 0.009920153766870499, 0.034935884177684784, 0.002988402033224702, -5.135488754604012e-05, -0.045018430799245834, -0.022523337975144386, -0.024443821981549263, -0.03253527730703354, -0.004663531202822924, -0.03552897647023201, 0.05688025429844856, -0.004246955271810293, 0.0175103060901165, -0.02635018713772297, -0.02498042955994606, 0.008006729185581207, 0.03199867159128189, 0.03648921847343445, -0.016578305512666702, -0.009955456480383873, 0.03739297762513161, -0.01558982115238905, -0.006375728640705347, 0.005027152597904205, -0.016479456797242165, 0.01790570095181465, 0.013189214281737804, -0.02231151983141899, -0.013436336070299149, 0.024825096130371094, 0.02982400543987751, -0.0127373356372118, -0.0008909603930078447, -0.022989338263869286, -0.027974126860499382, 0.014516608789563179, 0.0025171064771711826, -0.01666303351521492, -0.018738852813839912, -0.028666066005825996, 0.002135833725333214, -0.03521830961108208, 0.010880395770072937, -0.005973273888230324, -0.021619580686092377, -0.00645692553371191, 0.032224610447883606, 0.0223538838326931, -0.03346727788448334, -0.04202473536133766, 0.015448609367012978, -0.0051789553835988045, -0.06958934664726257, 0.000155884976265952, -0.0013821139000356197, 0.01845642738044262, -0.010329668410122395, -0.0011782388901337981, -0.020941762253642082, -0.011325214058160782, 0.02681618742644787, 0.022127943113446236, 0.012412548065185547, -0.0006659035570919514, -0.02287636697292328, -0.03784485533833504, -0.053688857704401016, -0.03341079503297806, -0.015335639007389545, -0.006922925356775522, 0.029146187007427216, 0.009037577547132969, -0.01749618537724018, 0.008868122473359108, -0.017792729660868645, -0.019148366525769234, -0.02245273068547249, 0.02060285210609436, 0.000869778566993773, 0.025587640702724457, -0.02543230727314949, 0.009157607331871986, 0.004885940346866846, -0.005210728384554386, -0.04027370363473892, 0.027423398569226265, 0.02015097253024578, -6.459352880483493e-05, -0.03504885360598564, -0.029259156435728073, 0.045809220522642136, -0.0021075913682579994, -0.011014547199010849, -0.018978912383317947, -0.04874643310904503, -0.0036997583229094744, 0.05829237401485443, -0.004670591559261084, -0.001657477580010891, 0.005909728351980448, 0.009955456480383873, 0.06620025634765625, 0.01183357834815979, -0.043662797659635544, -0.020278064534068108, -0.011593516916036606, -0.008112638257443905, -0.009030517190694809, -0.031377337872982025, -0.013535184785723686, 0.017383215948939323, 0.03072776272892952, -0.019416669383645058, 0.011586456559598446, 0.016818366944789886, 0.005164834205061197, 0.010562668554484844, -0.019910912960767746, 0.00809851661324501, -0.015971094369888306, 0.026110125705599785, -0.007667819503694773, 0.026929156854748726, -0.0056378948502242565, 0.011819456703960896, -0.02499455027282238, -0.046684734523296356, 0.016888972371816635, 0.018061034381389618, -0.030106429010629654, -0.0047765010967850685, -0.04287200793623924, -0.0059662130661308765, -0.020715821534395218, 0.021789034828543663, 0.02495218627154827, 0.01203833520412445, -0.0030819550156593323, -0.014092972502112389, 0.014573093503713608, -0.013464578427374363, -0.022706912830471992, -0.023525943979620934, -0.0011199888540431857, 0.0027006822638213634, -0.02061697281897068, 0.012172487564384937, -0.022918730974197388, -0.0008631592500023544, 0.011918305419385433, 0.02239624597132206, -0.04035843163728714, -0.008621001616120338, -0.006435743533074856, -0.011219304986298084, 0.005623773671686649, 0.020814670249819756, -0.018301093950867653, -0.006446334533393383, 0.021337155252695084, -0.008832819759845734, 0.00645692553371191, -0.019826184958219528, 0.027875278145074844, -0.013408093713223934, 0.010929820127785206, -0.0014994965167716146, 0.0023211746010929346, -0.025248732417821884, 0.01470018457621336, 0.015222669579088688, -0.00711356196552515, -0.016903094947338104, -0.0026530232280492783, 0.031349096447229385, 0.03191394358873367, 0.0022911671549081802, 0.02056048810482025, -0.005510804243385792, -0.014897882007062435, -0.019501397386193275, -0.056767284870147705, -0.011699425987899303, -0.03730824962258339, 0.03332606703042984, -0.0189083069562912, -0.0018339927773922682, 0.019981518387794495, -0.06620025634765625, -0.025305217131972313, 0.04434061422944069, -0.020758185535669327, 0.003943349234759808, -0.002607129281386733, -0.013591669499874115, 0.03247879445552826, 0.05538340285420418, 0.030925460159778595, 0.023963700979948044, 0.03208339959383011, 0.030134672299027443, -0.00018181063933297992, -0.03722352162003517, -0.011099275201559067, 0.0241472776979208, -0.06224631518125534, 0.014389517717063427, -0.04688243195414543, 0.028779035434126854, 0.018315214663743973, -0.023102307692170143, -0.01165000256150961, 0.001150878961198032, 0.0026212504599243402, 0.03541600704193115, -0.02852485328912735, 0.04165758192539215, 0.006188622210174799, 0.006940577179193497, -0.021676065400242805, -0.035020612180233, 0.02633606642484665, -0.03682812675833702, 0.012137183919548988, -0.014530730433762074, 0.02022157981991768, -0.02372364141047001, -0.008543334901332855, -0.02328588254749775, -0.023412974551320076, -0.03454049304127693, -9.068467625183985e-05, 0.011727669276297092, -0.00482239481061697, 0.03866388648748398, 0.02767758071422577, 0.0012991518015041947, -0.02363891340792179, -0.004571743309497833, -0.013980002142488956, 0.03293067216873169, -0.03205515816807747, -0.015900487080216408, 0.027028005570173264, -0.01755267009139061, 0.030388854444026947, 0.03208339959383011, -0.033523764461278915, -0.03462521731853485, -0.010372032411396503, -0.004268137272447348, 0.005447258707135916, -0.03233758360147476, -0.01621115393936634, -0.0188376996666193, 0.01363403256982565, 0.021591337397694588, 0.0175103060901165, -0.014340093359351158, -0.042787279933691025, -0.01422006357461214, -0.057275645434856415, -0.0268020648509264, -0.016338245943188667, -0.009440031833946705, -0.017383215948939323, -0.0008975797099992633, -0.021167701110243797, -0.00035347166704013944, -0.003362614195793867, 0.03646097704768181, 0.026604369282722473, 0.0008825759286992252, -0.02505103498697281, 0.0008433012990280986, -0.016804246231913567, 0.011953608132898808, 0.015081457793712616, -0.00212877313606441, -0.029315641149878502, -0.04380400851368904, -0.025686489418148994, 0.002412962494418025, -0.01888006366789341, 0.0157169122248888, 0.041940007358789444, -0.0008446251740679145, -0.0020122730638831854, -0.0075830924324691296, -0.027437521144747734, -0.04250485822558403, 0.0022187959402799606, -0.0525309182703495, 0.019614366814494133, -0.011770032346248627, 0.021308913826942444, 0.02544642984867096, 0.019162489101290703, 0.015067336149513721, 0.007071198429912329, -0.02067345753312111, -0.03646097704768181, -0.010739183984696865, -0.02017921581864357, 0.03069952130317688, 0.007293607573956251, -0.005743803922086954, -0.026491397991776466, -0.0007863751379773021, 0.002229386707767844, -0.07941771298646927, 0.02719745971262455, -0.004871819168329239, -0.010379092767834663, 0.020376913249492645, 0.03544424846768379, 0.005189546383917332, -0.027465762570500374, -0.03253527730703354, 0.0429849773645401, -0.008395061828196049, 0.03894631192088127, -0.052785102277994156, -0.00040797071414999664, 0.021746670827269554, 0.03067127801477909, 0.009856607764959335, 0.0027324550319463015, -0.023130549117922783, 0.0018993034027516842, 0.0016018752939999104, 0.03363673388957977, 0.02053224667906761, 0.031236127018928528, -0.020334549248218536, -0.030021702870726585, 0.025686489418148994, 0.00792200118303299, -0.009778941050171852, -0.0022876367438584566, 0.013408093713223934, -0.008352698758244514, 0.012815002351999283, -0.025164004415273666, -0.0003234640753362328, 0.0175103060901165, -0.026434913277626038, 0.05145770683884621, 0.0032990688923746347, 0.00987778976559639, -0.011812396347522736, -0.01888006366789341, 0.028355399146676064, 0.029711036011576653, 0.029259156435728073, 0.007141804322600365, 0.019473155960440636, -0.005013031419366598, -0.04645879566669464, -0.028736671432852745, 0.005856773816049099, -0.013436336070299149, 0.0016989586874842644, -0.03694109618663788, -0.01052736584097147, 0.0429849773645401, 0.008444486185908318, 0.018724730238318443, -0.01470018457621336, -0.010640335269272327, 0.008642183616757393, -0.019035397097468376, -0.0302476417273283, -0.050582192838191986, 0.03406037017703056, -0.009920153766870499, -0.010082547552883625, 0.007540728896856308, 0.015632184222340584, 0.006280410103499889, -0.010223759338259697, -0.023088186979293823, 0.0024164929054677486, 0.029061460867524147, -0.010859213769435883, -0.010633274912834167, 0.016437094658613205, 0.0004170171159785241, -0.023384731262922287, 0.007632516790181398, 0.008317395113408566, 0.017425578087568283, -0.012003032490611076, -0.002444735262542963, 0.006142728496342897, 0.007434819359332323, -0.01799042709171772, -0.026632610708475113, -0.03281770274043083, -0.012285456992685795, 0.0009584774379618466, -0.01626763865351677, 0.01099336612969637, -0.03462521731853485, -0.002723629353567958, 0.0509493425488472, -0.029485097154974937, 0.01427654828876257, -0.01710079051554203, 0.010513244196772575, 0.01071800198405981, -0.05126000940799713, 0.008508032187819481, -0.025630004703998566, 0.00449407659471035, -0.022608064115047455, -0.0022593943867832422, -0.0021746670827269554, -0.043634552508592606, -0.01626763865351677, -0.015872245654463768, -0.01488376036286354, 0.023356489837169647, -0.010026062838733196, 0.0015842238208279014, -0.03459697589278221, 0.00506245531141758, 0.00334496283903718, 0.025686489418148994, -0.01137463841587305, -0.018682366237044334, -0.02623721770942211, -0.010117850266397, -0.05781225487589836, -0.021676065400242805, 0.018611760810017586, -0.03730824962258339, 0.017270246520638466, 0.02108297310769558, 0.040104251354932785, 0.008225607685744762, 0.005330758634954691, -0.03341079503297806, 0.05222025141119957, 0.013916457071900368, 0.006266288924962282, -0.04386049136519432, -0.009807183407247066, 0.00016217332449741662, 0.016324123367667198, 0.011035729199647903, 0.0012691441224887967, 0.0053060464560985565, 0.001754560973495245, -0.0012532578548416495, 0.00047482585068792105, 0.016790123656392097, -0.007004122715443373, 0.005906198173761368, 0.023808367550373077, 0.013937639072537422, 0.03479467332363129, -0.0029160308185964823, 0.014558972790837288, 0.03301540017127991, -0.004960076883435249, 0.0030166443902999163, 0.0012788524618372321, 0.001525091240182519, 0.007809031754732132, 0.023991944268345833, -0.05673903971910477, 0.016380609944462776, -0.024754488840699196, 0.0038339097518473864, 0.025093398988246918, -0.027310429140925407, 0.01298445649445057, -0.02024982124567032, -0.019049517810344696, 0.020376913249492645, 0.03021940030157566, 0.023610670119524002, 0.0360938236117363, 0.022156186401844025, -0.030953703448176384, 0.010838032700121403, -0.013683456927537918, -0.014897882007062435, -0.008656304329633713, -0.0031101976055651903, 0.017340851947665215, 0.009185850620269775, 0.10043007880449295, 0.03521830961108208, -0.024387337267398834, -0.0021111215464770794, 0.025785338133573532, 0.007477183360606432, 0.008550395257771015, 0.014382457360625267, 0.00334849301725626, -0.006968819536268711, -0.008889304473996162, -0.010703880339860916, -0.010160214267671108, 0.06190740689635277, 0.020955882966518402, 0.0498761311173439, -0.02370951883494854, -0.0022435078863054514, 0.007936122827231884, 0.0236812774091959, 0.014982609078288078, -0.016479456797242165, -0.02719745971262455, -0.012405486777424812, -0.004744728095829487, -0.01800454966723919, -0.02113945782184601, -0.016550064086914062, 0.012758517637848854, 0.0241472776979208, 0.025531155988574028, 0.00815500132739544, 0.01136757805943489, -0.033919159322977066, -0.00791494082659483, -0.02058873139321804, -0.018682366237044334, 0.012292517349123955, 0.01274439599364996, -0.04202473536133766, 0.01494024507701397, -0.026477277278900146, 0.048915889114141464, -0.014156517572700977, -0.0071276831440627575, -0.017863336950540543, -0.004677652381360531, -0.0034190991427749395, 0.010809790343046188, 0.011628820560872555, -0.0015939321601763368, -0.026533761993050575, -0.005073046311736107, 0.012892669066786766, -0.008882244117558002, 0.010986304841935635, 0.003064303658902645, -0.021718427538871765, 0.035303037613630295, 0.002086409367620945, 0.03290243074297905, 0.017736244946718216, 0.034229826182127, 0.009955456480383873, -0.004508197773247957, -0.0027218640316277742, -0.011685305275022984, -0.003968061413615942, -0.016041699796915054, 0.004119864199310541, -0.0007621042896062136, 0.003752712858840823, 0.006273349747061729, -0.004525849130004644, 0.01076742634177208, 0.0018887125188484788, -0.03338254988193512, 0.018061034381389618, -0.0004885057569481432, 0.06331952661275864, -0.012440790422260761, 0.01886594295501709, 0.02245273068547249, 0.011826517060399055, 0.014784911647439003, -0.015194427222013474, -0.010880395770072937, -0.01076036598533392, -0.007279486395418644, -0.005881485994905233, 0.0482945553958416, -0.02499455027282238, -0.011741789989173412, 0.015561578795313835, 0.004811803810298443, -0.024472065269947052, 0.011042789556086063, -0.03242230787873268, -0.005334288813173771, 0.02194436825811863, -0.008303274400532246, 0.0004889470874331892, -0.007155925501137972, 0.0034649930894374847, -0.006442804355174303, 0.013090366497635841, -0.03239406645298004, -0.051881343126297, -0.007279486395418644, -0.008684546686708927, 0.013676396571099758, -0.014841396361589432, 0.009588304907083511, 0.009786001406610012, 0.026039520278573036, -0.006308652460575104, -0.009976638481020927, -0.00787257682532072, 0.013514002785086632, -0.044114675372838974, -0.007823153398931026, -0.022664548829197884, -0.003491470357403159, 0.019840307533740997, 0.011995972134172916, 0.03815552219748497, -0.026406671851873398, -0.025333458557724953, -0.0012867957120761275, 0.02810121700167656, 0.03476643189787865, 0.021789034828543663, -0.01791982166469097, 0.04764498025178909, -0.0019946214742958546, 0.023525943979620934, -0.007265365216881037, -0.009687153622508049, -0.025545276701450348, 0.01316097192466259, -0.009489456191658974, 0.030925460159778595, -0.03211164101958275, 0.020701700821518898, 0.03064303658902645, -0.004599985666573048, -0.015194427222013474, -0.02495218627154827, -0.0015074396505951881, -0.0323658250272274, 0.02889200486242771, -0.03417333960533142, -0.014615457504987717, -0.02417551912367344, -0.012589062564074993, 0.008027910254895687, -0.006559304427355528, 0.04216594621539116, 0.017354972660541534, 0.008945789188146591, -0.030078187584877014, -0.010830971412360668, 0.00028463074704632163, -0.017340851947665215, 0.04114922136068344, -0.05075164511799812, 0.022156186401844025, 0.016338245943188667, -0.014686062932014465, 0.040471401065588, 0.03140558302402496, 0.025291096419095993, -0.00012102322216378525, -0.006153319496661425, 0.010315547697246075, 0.0024676823522895575, -0.010626214556396008, -0.00151008740067482, -0.03541600704193115, 0.12234620749950409, 0.02012273110449314, -0.015024972148239613, -0.01488376036286354, 0.029908733442425728, -0.004088091664016247, 0.02099824696779251, 0.005842652637511492, 0.01845642738044262, -0.0014986139722168446, -0.013365729711949825, 0.003738591680303216, -0.031857460737228394, 0.018696488812565804, -0.004607046488672495, -0.014686062932014465, 0.019670851528644562, -0.02370951883494854, -0.008020849898457527, -0.027465762570500374, 0.0022435078863054514, -0.01886594295501709, 0.011459365487098694, -0.003491470357403159, 0.014340093359351158, -0.03324133902788162, -0.005030682776123285, -0.03284594416618347, -0.018244609236717224, 0.024274367839097977, 0.021831398829817772, 0.003297303570434451, -0.048379283398389816, -0.00017099909018725157, 0.009157607331871986, -0.025192247703671455, -0.014954366721212864, -0.015561578795313835, -0.01880945824086666, 0.00047482585068792105, 0.01703018508851528, 0.01749618537724018, 0.04476425051689148, -0.03154679387807846, -0.005362531170248985, -0.015039093792438507, 0.038805097341537476, -0.01714315451681614, -0.012101881206035614, 0.04371928051114082, -0.006414561998099089, -0.0030766597483307123, 0.01582988165318966, 0.021774912253022194, -0.0040810308419167995, -0.025686489418148994, -0.06190740689635277, -0.010343790054321289, 0.0517401322722435, 0.004455243237316608, -0.03146206587553024, 0.001002606237307191, 0.005005970597267151, 0.002998993033543229, 0.007985547184944153, -0.001886947313323617, -0.0006557538872584701, -0.025291096419095993, 0.0214218832552433, 0.015476851724088192, 0.006711107213050127, 0.02807297557592392, 0.003784485626965761, -0.018583519384264946, 0.009764820337295532, -0.006979410536587238, 0.009348244406282902, 0.01076036598533392, -0.02369539812207222, -0.03341079503297806, -0.0045187887735664845, 0.018258729949593544, 0.02065933682024479, 0.02807297557592392, 0.0030290004797279835, -0.02900497429072857, -0.008585698902606964, -0.015476851724088192, 0.007576031610369682, -0.015137942507863045, 0.008225607685744762, 0.01837170124053955, 0.02056048810482025, -0.004225773736834526, -0.0037915462162345648, -0.004991849418729544, -0.016338245943188667, -0.029739277437329292, 0.01848467066884041, -0.012793820351362228, -0.02411903440952301, -0.0214218832552433, -0.007145334500819445, 0.008952850475907326, 0.0010264357551932335, -0.025983035564422607, -0.010548547841608524, 0.005927379708737135, 0.005126000847667456, -0.003544424893334508, 0.017877457663416862, 0.007092379964888096, 0.03154679387807846, -0.0051154098473489285, 0.012765577994287014, -0.007957304827868938, 0.007088849786669016, 0.03583964332938194, -0.013902336359024048, -0.033100128173828125, -0.011522911489009857, 0.003249644534662366, 0.017369093373417854, -0.002605364192277193, -0.011078093200922012, 0.028849640861153603, 0.051147039979696274, 0.010830971412360668, 0.017326731234788895, -0.0036150310188531876, 0.00809145625680685, -0.029485097154974937, -0.009298820048570633, -0.01710079051554203, -0.015279154293239117, 0.031349096447229385, -0.0045187887735664845, -0.027028005570173264, 0.04770146310329437, -0.005853243637830019, 0.016380609944462776, 0.03888982534408569, 0.010082547552883625, 0.01028730534017086, 0.008825759403407574, -0.014311851002275944, 0.030106429010629654, -0.007886698469519615, -0.002400606404989958, -0.008267971687018871, -0.01753854937851429, -0.012158365920186043, 0.0036503339651972055, 0.002637136960402131, 0.012899729423224926, -0.015222669579088688, 0.007420698180794716, 0.008486850187182426, 0.007230062037706375, -0.006954698357731104, 0.050610434263944626, -0.0022046747617423534, 0.02979576401412487, -0.010117850266397, 0.012751457281410694, 0.011784153990447521, -0.013514002785086632, -0.020744064822793007, 0.012885608710348606, 0.007004122715443373, -8.952629286795855e-05, 0.0072583043947815895, -0.004204591736197472, -0.01666303351521492, 0.014742548577487469, 0.011713547632098198, -0.0036503339651972055, 0.010513244196772575, 0.006658152677118778, -0.020405154675245285, -0.04027370363473892, 0.002344121690839529, -0.0050412737764418125, 0.02150660939514637, -0.016422972083091736, 0.020306305959820747, -0.02543230727314949, -0.013252760283648968, 0.009722456336021423, -0.0018304624827578664, 0.002400606404989958, 0.01666303351521492, 0.04134691506624222, 0.01470018457621336, 0.003457932500168681, -0.009489456191658974, -0.0008141762809827924, -0.035783156752586365, 0.021831398829817772, -0.00538018299266696, -0.0033096596598625183, -0.01492612436413765, -0.0031719778198748827, 0.004359925165772438, 0.015886366367340088, -0.028694307431578636, 0.032648246735334396, 0.014107093214988708, 0.012525517493486404, -0.0024818035308271646, 0.02715509571135044, -0.011056911200284958, -0.02150660939514637, 0.02499455027282238, 0.0037456522695720196, 0.04049964249134064, -0.008592759259045124, 0.016804246231913567, -0.005224849563091993, 0.033552005887031555, 0.040104251354932785, -0.0473625548183918, 0.024443821981549263, 0.0028154172468930483, -0.02232564054429531, -0.00875515304505825, -0.006573425605893135, -0.031857460737228394, 0.01426948793232441, -0.01580164022743702, 0.0035709021613001823, -0.019953276962041855, 0.015519214794039726, -0.009616547264158726, -0.00899521354585886, -0.005362531170248985, 0.0014571328647434711, 0.0043881675228476524, -0.048040371388196945, -0.007752547040581703, -0.006442804355174303, -0.019882669672369957, -0.0018410533666610718, 0.0014262426411733031, 0.0010537956841289997, -0.031236127018928528, 0.013302184641361237, -0.002476508030667901, 0.01268085092306137, 0.005486092064529657, -0.00350912194699049, 0.009079940617084503, 0.03541600704193115, -0.006873501464724541, 0.010823911055922508, -0.03324133902788162, -0.021789034828543663, -0.029682792723178864, 0.025178125128149986, -0.025700610131025314, -0.04857697710394859, 0.04270255193114281, 0.016931336373090744, -0.014142396859824657, -0.009249395690858364, 0.0011711783008649945, -0.03112315759062767, 0.005157773848623037, -0.025672368705272675, 0.015039093792438507, -0.029146187007427216, 0.016790123656392097, -0.01847054809331894, 0.032732974737882614, -0.03287418931722641, 0.009913092479109764, 0.017877457663416862, 0.01403648778796196, 0.02403430826961994, 0.00735009228810668, 0.005524925421923399, 0.010597971267998219, 0.007004122715443373, -0.03278946131467819, -0.011409941129386425, 0.002001682296395302, 0.021676065400242805, 0.06106013432145119, 0.003115493105724454, 0.0031225536949932575, 0.0045858644880354404, -0.006245107389986515, -0.0026865610852837563, -0.01071094162762165, -0.005316637456417084, -0.005616713315248489, 0.02976752072572708, -0.004547031130641699, -0.0517401322722435, 0.005168364383280277, 0.03736473247408867, 0.04066909849643707, -0.01470018457621336, 0.004218712914735079, 0.015448609367012978, -0.01796218566596508, 0.0175103060901165, 0.04270255193114281, 0.014170639216899872, 0.0067287590354681015, 0.01975557953119278, -0.013033880852162838, 0.005419016350060701, 0.004190470557659864, 0.010696819983422756, -0.010696819983422756, 0.02988049015402794, 0.027028005570173264, -0.020023882389068604, -0.006012107245624065, 0.03857915848493576, -0.013069184496998787, -0.0012426668545231223, 0.004624697845429182, -0.030134672299027443, 0.009355304762721062, -0.013951759785413742, 0.027338672429323196, 0.026547884568572044, -0.043606311082839966, 0.00678171357139945, -0.001869295840151608, -0.03372146189212799, 0.00035413357545621693, -0.0035973794292658567, 0.021619580686092377, 0.0011570570059120655, -0.022989338263869286, 0.02505103498697281, -0.034822914749383926, 0.012843244709074497, -0.012878547422587872, 0.0034014475531876087, 0.011635880917310715, 0.011791214346885681, 0.01703018508851528, 0.013683456927537918, 0.014742548577487469, -0.009588304907083511, 0.02019333653151989, 0.0016371783567592502, 0.0012559054885059595, -0.009863668121397495, -0.0008243258926086128, 0.01095806248486042, -0.02937212586402893, 0.036658674478530884, -0.048887643963098526, -0.017708003520965576, -0.02499455027282238, -0.03420158103108406, 0.023059943690896034, -0.0013865267392247915, -0.024359095841646194, 0.009898971766233444, 0.05874425172805786, -0.013118608854711056, -0.0315750353038311, -0.00384097034111619, -0.013415154069662094, -0.0120736388489604, -0.034935884177684784, -0.000607212248723954, -0.035020612180233, 0.018301093950867653, -0.00017441906675230712, 0.010866275057196617, -0.010936880484223366, -0.012539639137685299, 0.011339335702359676, 0.002573591424152255, 0.010153152979910374, -0.001607170794159174, 0.027903519570827484, 0.037110552191734314, -0.007335971109569073, -0.03318485617637634, 0.047983888536691666, 0.012285456992685795]\n"
     ]
    }
   ],
   "source": [
    "text = 'cup'\n",
    "text = text.replace('\\n', ' ')\n",
    "embedding_response = client.embeddings.create(\n",
    "    input = [text], \n",
    "    model=\"text-embedding-3-small\"\n",
    ")\n",
    "print(embedding_response.data[0].embedding)\n",
    "#embedding_response"
   ]
  },
  {
   "cell_type": "code",
   "execution_count": 24,
   "id": "b6d639d0-2573-4574-9d21-259b771be468",
   "metadata": {},
   "outputs": [],
   "source": [
    "#pip install matplotlib\n",
    "#pip install scipy\n",
    "#pip install scikit-learn\n",
    "#pip install plotly\n",
    "#pip install pandas"
   ]
  }
 ],
 "metadata": {
  "kernelspec": {
   "display_name": "Python 3 (ipykernel)",
   "language": "python",
   "name": "python3"
  },
  "language_info": {
   "codemirror_mode": {
    "name": "ipython",
    "version": 3
   },
   "file_extension": ".py",
   "mimetype": "text/x-python",
   "name": "python",
   "nbconvert_exporter": "python",
   "pygments_lexer": "ipython3",
   "version": "3.12.3"
  }
 },
 "nbformat": 4,
 "nbformat_minor": 5
}
