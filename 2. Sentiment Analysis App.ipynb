{
 "cells": [
  {
   "cell_type": "code",
   "execution_count": null,
   "id": "818694c9-5fe2-466e-abdc-aa1d66850a5d",
   "metadata": {},
   "outputs": [],
   "source": [
    "#Sentiment Analysis App"
   ]
  },
  {
   "cell_type": "code",
   "execution_count": 1,
   "id": "feff6d45-581f-443a-983a-bd29f79f235c",
   "metadata": {},
   "outputs": [],
   "source": [
    "import os\n",
    "from openai import OpenAI\n",
    "import csv"
   ]
  },
  {
   "cell_type": "code",
   "execution_count": 2,
   "id": "6ab7a1e6-8104-4be4-b649-9514e24119de",
   "metadata": {},
   "outputs": [],
   "source": [
    "client = OpenAI(api_key=os.environ.get(\"OPENAI_API_KEY\", \"<your key>\"))"
   ]
  },
  {
   "cell_type": "code",
   "execution_count": 3,
   "id": "fb18388b-b9c4-4a49-b878-c70140bfa523",
   "metadata": {},
   "outputs": [],
   "source": [
    "#Creating file\n",
    "with open('feedback.csv', 'w', newline='') as csvfile:\n",
    "    spamwriter = csv.writer(csvfile, delimiter=' ', quotechar=' ', quoting=csv.QUOTE_MINIMAL)\n",
    "    spamwriter.writerow(['Customer Feedback'])\n",
    "    spamwriter.writerow(['This is a lousy product'])\n",
    "    spamwriter.writerow(['This is an OK product'])\n",
    "    spamwriter.writerow(['This is a great product'])"
   ]
  },
  {
   "cell_type": "code",
   "execution_count": 4,
   "id": "d8b9919d-abb8-4851-a467-5ed92ec5c4bd",
   "metadata": {},
   "outputs": [],
   "source": [
    "#read file function\n",
    "def get_feedback(file_path):\n",
    "    comments= []\n",
    "    with open(file_path, 'r') as csvfile:\n",
    "        csvreader = csv.reader(csvfile)\n",
    "        next(csvreader)\n",
    "        for row in csvreader: \n",
    "            comments.append(row[0])\n",
    "    return comments    "
   ]
  },
  {
   "cell_type": "code",
   "execution_count": 5,
   "id": "46c5719a-91e8-48be-bf5b-a915a6618e5e",
   "metadata": {},
   "outputs": [
    {
     "name": "stdout",
     "output_type": "stream",
     "text": [
      "[' This  is  a  lousy  product ', ' This  is  an  OK  product ', ' This  is  a  great  product ']\n"
     ]
    }
   ],
   "source": [
    "file_path = \"feedback.csv\"\n",
    "feedback = get_feedback(file_path)\n",
    "\n",
    "print(feedback)"
   ]
  },
  {
   "cell_type": "code",
   "execution_count": 6,
   "id": "df2d404e-e1df-427c-8972-6bd8e166b8c0",
   "metadata": {},
   "outputs": [],
   "source": [
    "#get sentiment function\n",
    "#@param feedback\n",
    "\n",
    "def get_sentiment(feedback):\n",
    "    response = client.chat.completions.create(\n",
    "        model=\"gpt-3.5-turbo\",\n",
    "        messages=[\n",
    "            {\"role\": \"system\", \"content\": \"\"\"You are a system that determines the sentiment of comments and feedback.\n",
    "             Express the sentiment with either positive, negative or neutral.  Also include an emoji. Analyze the sentiment of the comment\n",
    "             delimited by ###.\n",
    "             \"\"\"},\n",
    "            {\"role\": \"user\", \"content\": feedback}\n",
    "        ]\n",
    ")\n",
    "    return response.choices[0].message.content"
   ]
  },
  {
   "cell_type": "code",
   "execution_count": 7,
   "id": "85fa3dc8-de05-4bd7-8c6c-bc6f322acefb",
   "metadata": {},
   "outputs": [
    {
     "name": "stdout",
     "output_type": "stream",
     "text": [
      "Comment:  This  is  a  lousy  product \n",
      "The sentiment is negative. 😞\n",
      "----------------------\n",
      "Comment:  This  is  an  OK  product \n",
      "Neutral 😐\n",
      "----------------------\n",
      "Comment:  This  is  a  great  product \n",
      "The sentiment of the comment is positive. 😊\n",
      "----------------------\n"
     ]
    }
   ],
   "source": [
    "for comment in feedback:\n",
    "    prompt = f\"###{comment}###\"\n",
    "    sentiment_result = get_sentiment(prompt)\n",
    "    print(f\"Comment: {comment}\")\n",
    "    print(f\"{sentiment_result}\")\n",
    "    print(\"----------------------\")"
   ]
  }
 ],
 "metadata": {
  "kernelspec": {
   "display_name": "Python 3 (ipykernel)",
   "language": "python",
   "name": "python3"
  },
  "language_info": {
   "codemirror_mode": {
    "name": "ipython",
    "version": 3
   },
   "file_extension": ".py",
   "mimetype": "text/x-python",
   "name": "python",
   "nbconvert_exporter": "python",
   "pygments_lexer": "ipython3",
   "version": "3.12.3"
  }
 },
 "nbformat": 4,
 "nbformat_minor": 5
}
