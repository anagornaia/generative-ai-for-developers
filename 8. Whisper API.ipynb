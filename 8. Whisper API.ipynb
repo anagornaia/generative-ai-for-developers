{
 "cells": [
  {
   "cell_type": "code",
   "execution_count": null,
   "id": "e5e51225-1d84-4320-acce-5a6d5dfbee59",
   "metadata": {},
   "outputs": [],
   "source": [
    "#Whisper API"
   ]
  },
  {
   "cell_type": "code",
   "execution_count": 3,
   "id": "7e7612b3-a246-4c82-adde-a2817f841ec2",
   "metadata": {},
   "outputs": [],
   "source": [
    "import os\n",
    "from openai import OpenAI\n",
    "from pathlib import Path"
   ]
  },
  {
   "cell_type": "code",
   "execution_count": 4,
   "id": "54387403-129e-49fb-a57e-4285e16967d2",
   "metadata": {},
   "outputs": [],
   "source": [
    "client = OpenAI(api_key=os.environ.get(\"OPENAI_API_KEY\", \"<your key>\"))"
   ]
  },
  {
   "cell_type": "code",
   "execution_count": 13,
   "id": "66fc83ac-941f-4a8b-bbc3-37e43d2be85e",
   "metadata": {},
   "outputs": [],
   "source": [
    "def create_blog_post(topic, length=300):\n",
    "\n",
    "    prompt = f''' \n",
    "    \n",
    "    Write a blog about {topic}. Limit it to no more than {length} words.\n",
    "    \n",
    "    \n",
    "    ''' \n",
    "\n",
    "    response = client.chat.completions.create(\n",
    "        model=\"gpt-3.5-turbo\",\n",
    "        messages=[\n",
    "            {\"role\": \"system\", \"content\": \"You are an expert blog writer\",\n",
    "            \"role\": \"user\", \"content\": prompt},\n",
    "        ]\n",
    "    )\n",
    "    \n",
    "    return response.choices[0].message.content"
   ]
  },
  {
   "cell_type": "code",
   "execution_count": 14,
   "id": "8f76836c-5319-426e-ac28-3109f8744bbf",
   "metadata": {},
   "outputs": [],
   "source": [
    "blog_post = create_blog_post(\"Table top rpg Dungeons and Dragons\", 500)"
   ]
  },
  {
   "cell_type": "code",
   "execution_count": 16,
   "id": "a72b122b-9e4c-41db-bc86-206a5835910d",
   "metadata": {},
   "outputs": [
    {
     "name": "stdout",
     "output_type": "stream",
     "text": [
      "Dungeons and Dragons, the iconic tabletop role-playing game that has captured the imagination of millions of players worldwide. Whether you are a seasoned dungeon master or a newbie adventurer, there is something magical about gathering around a table with friends to embark on epic quests, battles, and adventures in a world of fantasy and imagination.\n",
      "\n",
      "At its core, Dungeons and Dragons is a game of storytelling and creativity. Players create characters with unique backgrounds, abilities, and personalities, and work together to overcome challenges and obstacles set by the dungeon master. The dungeon master, or DM, acts as both narrator and referee, guiding the players through the world and reacting to their decisions and actions.\n",
      "\n",
      "One of the most appealing aspects of Dungeons and Dragons is the endless possibilities and flexibility it offers. Players can choose to be anything from a heroic knight, a sneaky rogue, a powerful wizard, or even a mischievous goblin. The only limit is your imagination. The game allows players to explore a vast world filled with mythical creatures, ancient ruins, and treacherous dungeons, all while forging bonds with their fellow adventurers.\n",
      "\n",
      "The collaborative nature of the game fosters teamwork, problem-solving, and creativity. Players must work together to overcome challenges, make difficult decisions, and ultimately achieve their goals. The game encourages role-playing, improvisation, and thinking outside the box, as players navigate through complex moral dilemmas and unexpected twists and turns in the story.\n",
      "\n",
      "Dungeons and Dragons is also a social experience, bringing friends together to share laughs, triumphs, and defeats. It allows players to escape from the real world and immerse themselves in a rich and immersive fantasy setting where anything is possible. The game can be a great way to bond with friends, strengthen relationships, and create lasting memories.\n",
      "\n",
      "In recent years, Dungeons and Dragons has experienced a resurgence in popularity, thanks in part to the rise of online platforms and streaming services that allow players to connect and play with others around the world. The game has also gained mainstream recognition through popular podcasts, live streams, and even celebrity endorsements.\n",
      "\n",
      "Whether you are a seasoned player or a curious beginner, Dungeons and Dragons offers a unique and rewarding gaming experience that can be enjoyed by people of all ages and backgrounds. So grab some dice, gather your friends, and let your imagination run wild as you embark on an unforgettable adventure in the world of Dungeons and Dragons.\n"
     ]
    }
   ],
   "source": [
    "print(blog_post)"
   ]
  },
  {
   "cell_type": "code",
   "execution_count": null,
   "id": "3b25b170-e72e-4367-9287-4ef2ed286df0",
   "metadata": {},
   "outputs": [],
   "source": [
    "#Text to speech"
   ]
  },
  {
   "cell_type": "code",
   "execution_count": 17,
   "id": "6de30e05-e09b-4baa-879d-eff37334ad0e",
   "metadata": {},
   "outputs": [],
   "source": [
    "speech_file_path = \"speech.mp3\"\n",
    "\n",
    "prompt = blog_post\n",
    "\n",
    "with client.audio.speech.with_streaming_response.create(\n",
    "        model=\"tts-1\",\n",
    "        voice=\"alloy\",\n",
    "        input=prompt,\n",
    "    ) as response:\n",
    "        response.stream_to_file(speech_file_path)"
   ]
  },
  {
   "cell_type": "code",
   "execution_count": null,
   "id": "2dda24fe-327d-4108-823f-a14e5b21b907",
   "metadata": {},
   "outputs": [],
   "source": [
    "#Speech to text"
   ]
  },
  {
   "cell_type": "code",
   "execution_count": 18,
   "id": "e292f319-8098-4930-b5c3-5bfeb01b8d66",
   "metadata": {},
   "outputs": [
    {
     "name": "stdout",
     "output_type": "stream",
     "text": [
      "Dungeons & Dragons, the iconic tabletop role-playing game that has captured the imagination of millions of players worldwide. Whether you are a seasoned Dungeon Master or a newbie adventurer, there is something magical about gathering around a table with friends to embark on epic quests, battles, and adventures in a world of fantasy and imagination. At its core, Dungeons & Dragons is a game of storytelling and creativity. Players create characters with unique backgrounds, abilities, and personalities, and work together to overcome challenges and obstacles set by the Dungeon Master. The Dungeon Master, or DM, acts as both narrator and referee, guiding the players through the world and reacting to their decisions and actions. One of the most appealing aspects of Dungeons & Dragons is the endless possibilities and flexibility it offers. Players can choose to be anything from a heroic knight, a sneaky rogue, a powerful wizard, or even a mischievous goblin. The only limit is your imagination. The game allows players to explore a vast world filled with mythical creatures, ancient ruins, and treacherous dungeons, all while forging bonds with their fellow adventurers. The collaborative nature of the game fosters teamwork, problem-solving, and creativity. Players must work together to overcome challenges, make difficult decisions, and ultimately achieve their goals. The game encourages role-playing, improvisation, and thinking outside the box as players navigate through complex moral dilemmas and unexpected twists and turns in the story. Dungeons & Dragons is also a social experience, bringing friends together to share laughs, triumphs, and defeats. It allows players to escape from the real world and immerse themselves in a rich and immersive fantasy setting where anything is possible. The game can be a great way to bond with friends, strengthen relationships, and create lasting memories. In recent years, Dungeons & Dragons has experienced a resurgence in popularity, thanks in part to the rise of online platforms and streaming services that allow players to connect and play with others around the world. The game has also gained mainstream recognition through popular podcasts, live streams, and even celebrity endorsements. Whether you are a seasoned player or a curious beginner, Dungeons & Dragons offers a unique and rewarding gaming experience that can be enjoyed by people of all ages and backgrounds. So grab some dice, gather your friends, and let your imagination run wild as you embark on an unforgettable adventure in the world of Dungeons & Dragons.\n"
     ]
    }
   ],
   "source": [
    "audio_file= open(speech_file_path, \"rb\")\n",
    "transcription = client.audio.transcriptions.create(\n",
    "  model=\"whisper-1\", \n",
    "  file=audio_file\n",
    ")\n",
    "print(transcription.text)"
   ]
  }
 ],
 "metadata": {
  "kernelspec": {
   "display_name": "Python 3 (ipykernel)",
   "language": "python",
   "name": "python3"
  },
  "language_info": {
   "codemirror_mode": {
    "name": "ipython",
    "version": 3
   },
   "file_extension": ".py",
   "mimetype": "text/x-python",
   "name": "python",
   "nbconvert_exporter": "python",
   "pygments_lexer": "ipython3",
   "version": "3.12.3"
  }
 },
 "nbformat": 4,
 "nbformat_minor": 5
}
